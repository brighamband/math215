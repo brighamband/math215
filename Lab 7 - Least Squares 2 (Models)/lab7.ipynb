{
  "nbformat": 4,
  "nbformat_minor": 0,
  "metadata": {
    "colab": {
      "name": "lab7.ipynb",
      "provenance": [],
      "collapsed_sections": []
    },
    "kernelspec": {
      "name": "python3",
      "display_name": "Python 3"
    }
  },
  "cells": [
    {
      "cell_type": "markdown",
      "metadata": {
        "id": "qEJhOZ51lG2W"
      },
      "source": [
        "#**Lab 7 - Least squares II**"
      ]
    },
    {
      "cell_type": "markdown",
      "metadata": {
        "id": "y0oQ0MWSlwfG"
      },
      "source": [
        "Enter your code in the spaces provided. Do not change any of the variable names or function names that are already provided for you. In places where we specify the name of the return value, make sure that your code produces the a value with the correct name."
      ]
    },
    {
      "cell_type": "code",
      "metadata": {
        "id": "-rYZn3kyGXYe"
      },
      "source": [
        "# Do not edit this cell.\n",
        "\n",
        "LabID=\"Lab7\"\n",
        "\n",
        "try:\n",
        "  from graderHelp import ISGRADEPLOT\n",
        "except ImportError:\n",
        "  ISGRADEPLOT = True"
      ],
      "execution_count": 1,
      "outputs": []
    },
    {
      "cell_type": "markdown",
      "metadata": {
        "id": "duxZxqozGc15"
      },
      "source": [
        "**Enter your name, section number, and BYU NetID**"
      ]
    },
    {
      "cell_type": "code",
      "metadata": {
        "id": "BuU-yivAGhCc"
      },
      "source": [
        "# Enter your first and last names in between the quotation marks.\n",
        "\n",
        "first_name=\"Brigham\"\n",
        "\n",
        "last_name=\"Andersen\"\n",
        "\n",
        "# Enter your Math 215 section number in between the quotation marks. \n",
        "\n",
        "section_number=\"001\"  \n",
        "\n",
        "# Enter your BYU NetID in between the quotation marks.  NOT YOUR BYU ID NUMBER! \n",
        "\n",
        "BYUNetID=\"abrigham\"  "
      ],
      "execution_count": 2,
      "outputs": []
    },
    {
      "cell_type": "markdown",
      "metadata": {
        "id": "Hn2V1YPPSeV8"
      },
      "source": [
        "**Import the data set**"
      ]
    },
    {
      "cell_type": "markdown",
      "metadata": {
        "id": "ulLrk9LIYYjE"
      },
      "source": [
        "The simplest way to load the data into Colab is to first download it as a .csv file to your local computer by clicking the link\n",
        "\n",
        "https://drive.google.com/uc?export=download&id=1iFTaBmnv1X66BO9cV_RP7OxvUr9dNJ-l\n",
        "\n",
        "This will allow you to download the data as a .csv file.  In the top left corner of this screen you should see a little file folder icon.  Selecting it opens a new window to the left of the notebook with three tabs: \"Upload\", \"Refresh\", and \"Mount Drive\".  Select \"Upload\". This should bring up a window that allows you to select the file \"Lab7data\" from your local machine, which will upload the file to your notebook. You will need to do this again if you decide to close your notebook and reopen it at a later time. "
      ]
    },
    {
      "cell_type": "markdown",
      "metadata": {
        "id": "hnYh-rFvZ1c0"
      },
      "source": [
        "Once you've uploaded your file, convert it to a NumPy array called \"signal_data\" by executing the following cell."
      ]
    },
    {
      "cell_type": "code",
      "metadata": {
        "id": "-rvSM9MIXZSS",
        "colab": {
          "base_uri": "https://localhost:8080/"
        },
        "outputId": "bfc3eb28-5b3f-40b2-b256-f69f00491cec"
      },
      "source": [
        "import numpy as np\n",
        "import pandas as pd\n",
        "\n",
        "df = pd.read_csv('Lab7data.csv')\n",
        "signal_data=df.values\n",
        "signal_data"
      ],
      "execution_count": 3,
      "outputs": [
        {
          "output_type": "execute_result",
          "data": {
            "text/plain": [
              "array([[0.        , 0.42908643],\n",
              "       [0.01      , 0.4541735 ],\n",
              "       [0.02      , 0.43351901],\n",
              "       ...,\n",
              "       [6.26      , 0.4964696 ],\n",
              "       [6.27      , 0.5578126 ],\n",
              "       [6.28      , 0.46953165]])"
            ]
          },
          "metadata": {},
          "execution_count": 3
        }
      ]
    },
    {
      "cell_type": "markdown",
      "metadata": {
        "id": "O_rLaE7jKxoH"
      },
      "source": [
        "**Problem 1**"
      ]
    },
    {
      "cell_type": "code",
      "metadata": {
        "id": "dzudpi4_l8-8",
        "colab": {
          "base_uri": "https://localhost:8080/"
        },
        "outputId": "acd47fff-9ae3-4413-d060-e01f8ed860af"
      },
      "source": [
        "T=signal_data[:,0]\n",
        "print('T',T)\n",
        "\n",
        "Y=signal_data[:,1]\n",
        "print('Y',Y)"
      ],
      "execution_count": 4,
      "outputs": [
        {
          "output_type": "stream",
          "name": "stdout",
          "text": [
            "T [0.   0.01 0.02 0.03 0.04 0.05 0.06 0.07 0.08 0.09 0.1  0.11 0.12 0.13\n",
            " 0.14 0.15 0.16 0.17 0.18 0.19 0.2  0.21 0.22 0.23 0.24 0.25 0.26 0.27\n",
            " 0.28 0.29 0.3  0.31 0.32 0.33 0.34 0.35 0.36 0.37 0.38 0.39 0.4  0.41\n",
            " 0.42 0.43 0.44 0.45 0.46 0.47 0.48 0.49 0.5  0.51 0.52 0.53 0.54 0.55\n",
            " 0.56 0.57 0.58 0.59 0.6  0.61 0.62 0.63 0.64 0.65 0.66 0.67 0.68 0.69\n",
            " 0.7  0.71 0.72 0.73 0.74 0.75 0.76 0.77 0.78 0.79 0.8  0.81 0.82 0.83\n",
            " 0.84 0.85 0.86 0.87 0.88 0.89 0.9  0.91 0.92 0.93 0.94 0.95 0.96 0.97\n",
            " 0.98 0.99 1.   1.01 1.02 1.03 1.04 1.05 1.06 1.07 1.08 1.09 1.1  1.11\n",
            " 1.12 1.13 1.14 1.15 1.16 1.17 1.18 1.19 1.2  1.21 1.22 1.23 1.24 1.25\n",
            " 1.26 1.27 1.28 1.29 1.3  1.31 1.32 1.33 1.34 1.35 1.36 1.37 1.38 1.39\n",
            " 1.4  1.41 1.42 1.43 1.44 1.45 1.46 1.47 1.48 1.49 1.5  1.51 1.52 1.53\n",
            " 1.54 1.55 1.56 1.57 1.58 1.59 1.6  1.61 1.62 1.63 1.64 1.65 1.66 1.67\n",
            " 1.68 1.69 1.7  1.71 1.72 1.73 1.74 1.75 1.76 1.77 1.78 1.79 1.8  1.81\n",
            " 1.82 1.83 1.84 1.85 1.86 1.87 1.88 1.89 1.9  1.91 1.92 1.93 1.94 1.95\n",
            " 1.96 1.97 1.98 1.99 2.   2.01 2.02 2.03 2.04 2.05 2.06 2.07 2.08 2.09\n",
            " 2.1  2.11 2.12 2.13 2.14 2.15 2.16 2.17 2.18 2.19 2.2  2.21 2.22 2.23\n",
            " 2.24 2.25 2.26 2.27 2.28 2.29 2.3  2.31 2.32 2.33 2.34 2.35 2.36 2.37\n",
            " 2.38 2.39 2.4  2.41 2.42 2.43 2.44 2.45 2.46 2.47 2.48 2.49 2.5  2.51\n",
            " 2.52 2.53 2.54 2.55 2.56 2.57 2.58 2.59 2.6  2.61 2.62 2.63 2.64 2.65\n",
            " 2.66 2.67 2.68 2.69 2.7  2.71 2.72 2.73 2.74 2.75 2.76 2.77 2.78 2.79\n",
            " 2.8  2.81 2.82 2.83 2.84 2.85 2.86 2.87 2.88 2.89 2.9  2.91 2.92 2.93\n",
            " 2.94 2.95 2.96 2.97 2.98 2.99 3.   3.01 3.02 3.03 3.04 3.05 3.06 3.07\n",
            " 3.08 3.09 3.1  3.11 3.12 3.13 3.14 3.15 3.16 3.17 3.18 3.19 3.2  3.21\n",
            " 3.22 3.23 3.24 3.25 3.26 3.27 3.28 3.29 3.3  3.31 3.32 3.33 3.34 3.35\n",
            " 3.36 3.37 3.38 3.39 3.4  3.41 3.42 3.43 3.44 3.45 3.46 3.47 3.48 3.49\n",
            " 3.5  3.51 3.52 3.53 3.54 3.55 3.56 3.57 3.58 3.59 3.6  3.61 3.62 3.63\n",
            " 3.64 3.65 3.66 3.67 3.68 3.69 3.7  3.71 3.72 3.73 3.74 3.75 3.76 3.77\n",
            " 3.78 3.79 3.8  3.81 3.82 3.83 3.84 3.85 3.86 3.87 3.88 3.89 3.9  3.91\n",
            " 3.92 3.93 3.94 3.95 3.96 3.97 3.98 3.99 4.   4.01 4.02 4.03 4.04 4.05\n",
            " 4.06 4.07 4.08 4.09 4.1  4.11 4.12 4.13 4.14 4.15 4.16 4.17 4.18 4.19\n",
            " 4.2  4.21 4.22 4.23 4.24 4.25 4.26 4.27 4.28 4.29 4.3  4.31 4.32 4.33\n",
            " 4.34 4.35 4.36 4.37 4.38 4.39 4.4  4.41 4.42 4.43 4.44 4.45 4.46 4.47\n",
            " 4.48 4.49 4.5  4.51 4.52 4.53 4.54 4.55 4.56 4.57 4.58 4.59 4.6  4.61\n",
            " 4.62 4.63 4.64 4.65 4.66 4.67 4.68 4.69 4.7  4.71 4.72 4.73 4.74 4.75\n",
            " 4.76 4.77 4.78 4.79 4.8  4.81 4.82 4.83 4.84 4.85 4.86 4.87 4.88 4.89\n",
            " 4.9  4.91 4.92 4.93 4.94 4.95 4.96 4.97 4.98 4.99 5.   5.01 5.02 5.03\n",
            " 5.04 5.05 5.06 5.07 5.08 5.09 5.1  5.11 5.12 5.13 5.14 5.15 5.16 5.17\n",
            " 5.18 5.19 5.2  5.21 5.22 5.23 5.24 5.25 5.26 5.27 5.28 5.29 5.3  5.31\n",
            " 5.32 5.33 5.34 5.35 5.36 5.37 5.38 5.39 5.4  5.41 5.42 5.43 5.44 5.45\n",
            " 5.46 5.47 5.48 5.49 5.5  5.51 5.52 5.53 5.54 5.55 5.56 5.57 5.58 5.59\n",
            " 5.6  5.61 5.62 5.63 5.64 5.65 5.66 5.67 5.68 5.69 5.7  5.71 5.72 5.73\n",
            " 5.74 5.75 5.76 5.77 5.78 5.79 5.8  5.81 5.82 5.83 5.84 5.85 5.86 5.87\n",
            " 5.88 5.89 5.9  5.91 5.92 5.93 5.94 5.95 5.96 5.97 5.98 5.99 6.   6.01\n",
            " 6.02 6.03 6.04 6.05 6.06 6.07 6.08 6.09 6.1  6.11 6.12 6.13 6.14 6.15\n",
            " 6.16 6.17 6.18 6.19 6.2  6.21 6.22 6.23 6.24 6.25 6.26 6.27 6.28]\n",
            "Y [0.42908643 0.4541735  0.43351901 0.518289   0.4091098  0.46292901\n",
            " 0.51097146 0.49872862 0.42443258 0.50561885 0.55251725 0.53717017\n",
            " 0.47664176 0.42251967 0.46210101 0.55786297 0.43921364 0.55721489\n",
            " 0.51359768 0.59154568 0.57670379 0.67500564 0.65043662 0.57033698\n",
            " 0.60096469 0.59144127 0.64860822 0.5829558  0.56938891 0.52193346\n",
            " 0.49307473 0.47786252 0.47943165 0.47946155 0.45914263 0.54862339\n",
            " 0.45712183 0.44493314 0.55765799 0.5675946  0.55023552 0.49727864\n",
            " 0.49685418 0.53597267 0.51240276 0.56666065 0.41350854 0.54546522\n",
            " 0.39934158 0.5087926  0.37387253 0.40493202 0.42905721 0.42572566\n",
            " 0.35093223 0.40652262 0.44184729 0.42903982 0.53614831 0.42931633\n",
            " 0.4732128  0.48305278 0.53268912 0.43372017 0.39845049 0.42271966\n",
            " 0.3198566  0.34738173 0.3241806  0.4334184  0.37028477 0.42201623\n",
            " 0.36496997 0.5036443  0.45604128 0.45895927 0.44499135 0.51103473\n",
            " 0.51261057 0.37723034 0.40248764 0.45499919 0.3600457  0.43437522\n",
            " 0.39196719 0.38688588 0.45443514 0.45615598 0.51647584 0.43484936\n",
            " 0.5102477  0.55624014 0.64479652 0.56399979 0.57494725 0.56712313\n",
            " 0.64387979 0.60377457 0.64549572 0.64759705 0.62073399 0.57661977\n",
            " 0.6839093  0.63084432 0.66297481 0.79380353 0.81595467 0.80997778\n",
            " 0.83032614 0.8756122  0.83494491 0.88604002 0.94104237 0.97660245\n",
            " 0.88516419 1.02906761 0.96086742 0.96906127 1.01181091 0.92748391\n",
            " 0.90928777 0.8562139  0.9262207  0.81522796 0.76943691 0.79130797\n",
            " 0.75448619 0.72113757 0.84657246 0.69714137 0.8087641  0.70203381\n",
            " 0.71600858 0.78312756 0.65561508 0.68957476 0.77427365 0.67682139\n",
            " 0.68361741 0.70738178 0.71846558 0.74707828 0.76611747 0.81550638\n",
            " 0.72440021 0.79843716 0.7514017  0.79051023 0.65962594 0.7281649\n",
            " 0.65633334 0.62519109 0.58549306 0.58025581 0.70281274 0.66324847\n",
            " 0.58943939 0.60807511 0.54785765 0.58496877 0.59096693 0.58434673\n",
            " 0.55760076 0.61968176 0.51980646 0.50379484 0.64397989 0.65241389\n",
            " 0.57155581 0.62158229 0.59358982 0.56546144 0.62582559 0.65383813\n",
            " 0.59237553 0.62508443 0.54408028 0.65212546 0.53451416 0.56901008\n",
            " 0.5611807  0.48544204 0.48710769 0.42791298 0.46761736 0.40733061\n",
            " 0.37903426 0.33360376 0.39506007 0.27164465 0.30771472 0.41976554\n",
            " 0.34727237 0.49634792 0.43455997 0.531849   0.52486151 0.58852566\n",
            " 0.57712383 0.69248632 0.61635128 0.50536854 0.60880041 0.53937135\n",
            " 0.43460236 0.39282597 0.47602926 0.49165184 0.41790054 0.47885956\n",
            " 0.4998102  0.50173567 0.43773269 0.51940286 0.43072953 0.40690335\n",
            " 0.42785817 0.38691378 0.30590376 0.20185816 0.29263692 0.2407833\n",
            " 0.21051967 0.26063065 0.27385177 0.27458513 0.40977614 0.31684302\n",
            " 0.38031624 0.41606197 0.40591938 0.40975511 0.33849293 0.40145767\n",
            " 0.45498918 0.47010542 0.49642025 0.42438374 0.37601049 0.39192629\n",
            " 0.3578917  0.37792826 0.3032088  0.40837328 0.28857318 0.32613962\n",
            " 0.3322051  0.32531912 0.284345   0.34673297 0.31369859 0.36215674\n",
            " 0.29791517 0.30704005 0.21865122 0.26553679 0.15071367 0.1449708\n",
            " 0.19913285 0.18315073 0.11476381 0.09793635 0.11957396 0.09080266\n",
            " 0.197237   0.21765048 0.2322267  0.26032458 0.21617893 0.23732134\n",
            " 0.31302858 0.3534271  0.29686536 0.26104278 0.21963743 0.25238452\n",
            " 0.24629457 0.16226839 0.20903007 0.23545689 0.22700622 0.13239392\n",
            " 0.16282166 0.22186125 0.24155034 0.29987374 0.28351009 0.42390642\n",
            " 0.39131934 0.3280428  0.4238743  0.40345042 0.37492842 0.36072226\n",
            " 0.30839403 0.27738765 0.30902303 0.35067964 0.24865846 0.35573212\n",
            " 0.29691926 0.32088427 0.39448814 0.4323486  0.43641775 0.36990994\n",
            " 0.46586272 0.37019505 0.43216115 0.4663859  0.44409935 0.38879166\n",
            " 0.53830568 0.43700016 0.42304355 0.49451582 0.4191541  0.4867208\n",
            " 0.41041298 0.44485869 0.31385959 0.40907243 0.34563479 0.27897159\n",
            " 0.29483364 0.29500751 0.23876937 0.266351   0.35119878 0.31078115\n",
            " 0.2668867  0.26464472 0.29497656 0.29480515 0.19606589 0.27307794\n",
            " 0.22043553 0.21459326 0.31197388 0.26803265 0.23413797 0.19970603\n",
            " 0.21557224 0.19023408 0.29985193 0.17620128 0.25884568 0.33791454\n",
            " 0.28078574 0.35310101 0.45677934 0.47662812 0.49522471 0.52513914\n",
            " 0.45518225 0.43475549 0.50080487 0.4059506  0.44700679 0.2944454\n",
            " 0.30274709 0.30138182 0.21300546 0.27969115 0.28999694 0.18799222\n",
            " 0.26797727 0.23697388 0.20714309 0.33572179 0.20719676 0.18142197\n",
            " 0.15570973 0.23240752 0.23910427 0.16271165 0.17728014 0.1234166\n",
            " 0.08325099 0.17953779 0.1578617  0.13532705 0.1443031  0.16130911\n",
            " 0.18786632 0.14099511 0.16573252 0.14958505 0.28941497 0.20232839\n",
            " 0.23272568 0.25368437 0.27851109 0.18991886 0.1495143  0.16642832\n",
            " 0.19680407 0.17112449 0.0364666  0.00863428 0.11720596 0.11129932\n",
            " 0.12547505 0.08694592 0.01833099 0.16194866 0.17139402 0.19352812\n",
            " 0.13331305 0.21198966 0.25504587 0.31224999 0.25292841 0.25358378\n",
            " 0.2563809  0.34687175 0.37187376 0.27317757 0.39448477 0.28487277\n",
            " 0.27078112 0.29285266 0.30724384 0.23436905 0.23029932 0.10000087\n",
            " 0.19291238 0.11781169 0.16476692 0.10355046 0.02402084 0.15561462\n",
            " 0.06847072 0.04760202 0.05154859 0.08154197 0.07960405 0.07820556\n",
            " 0.07770555 0.10444696 0.10184387 0.16708402 0.12555967 0.19204224\n",
            " 0.23921304 0.17900712 0.2139523  0.26814977 0.22255162 0.37918063\n",
            " 0.28516906 0.36261028 0.36357562 0.42346657 0.44879007 0.56443245\n",
            " 0.5898464  0.60743189 0.53632315 0.66193577 0.6805193  0.63841998\n",
            " 0.68826957 0.78096727 0.81554301 0.72446637 0.82274936 0.76020372\n",
            " 0.77086995 0.65156927 0.59905171 0.50999215 0.4907842  0.53328704\n",
            " 0.41710199 0.47987736 0.35109591 0.3727946  0.35768862 0.48275838\n",
            " 0.50190046 0.39804397 0.48058589 0.48943892 0.36745716 0.3449484\n",
            " 0.27483861 0.22484118 0.22128655 0.29496773 0.17703344 0.16961506\n",
            " 0.17704233 0.2241263  0.16096874 0.20538537 0.22482797 0.33931196\n",
            " 0.33361981 0.31811403 0.26674186 0.36341925 0.30908136 0.29755194\n",
            " 0.28034441 0.36443222 0.41664158 0.37362352 0.32493872 0.38589531\n",
            " 0.3132755  0.39326442 0.35656427 0.41307966 0.33861827 0.36175473\n",
            " 0.34362785 0.47264256 0.49785    0.39061796 0.41926343 0.47095278\n",
            " 0.44158325 0.36329582 0.36576891 0.33622131 0.23629849 0.26706445\n",
            " 0.24788669 0.30319183 0.26639078 0.28096332 0.23228892 0.20812225\n",
            " 0.30803346 0.27522002 0.31909143 0.33779769 0.27651025 0.35999554\n",
            " 0.3763623  0.3128236  0.29544158 0.45023822 0.32828516 0.47612059\n",
            " 0.39178917 0.47994    0.39329959 0.53236903 0.4503342  0.43604916\n",
            " 0.5778921  0.52491305 0.62744033 0.55332675 0.6311477  0.75569209\n",
            " 0.78508081 0.86258994 0.85666361 0.97302747 1.0053797  0.96927484\n",
            " 0.94157198 0.94650216 1.01106107 0.98432529 0.98659974 0.89010278\n",
            " 0.95409837 0.94752388 1.01328613 0.91765141 0.88208701 0.90008059\n",
            " 0.89376858 0.98112847 0.99180025 0.90915347 0.95028877 0.99245213\n",
            " 0.86932198 1.01141228 0.99124598 0.90776981 0.90794606 0.93837583\n",
            " 0.86014806 0.95542579 0.80973377 0.83041664 0.77010616 0.71337594\n",
            " 0.70721366 0.71192523 0.78552065 0.66039902 0.63146416 0.67376016\n",
            " 0.74537036 0.70788072 0.70663132 0.75162216 0.6437025  0.69568366\n",
            " 0.64763013 0.73592987 0.79540158 0.77695388 0.76046388 0.74085676\n",
            " 0.62165731 0.68765745 0.60818764 0.53870707 0.51320732 0.60233392\n",
            " 0.57993484 0.64018533 0.5655763  0.55610641 0.63618588 0.62762638\n",
            " 0.54294679 0.64216365 0.4964696  0.5578126  0.46953165]\n"
          ]
        }
      ]
    },
    {
      "cell_type": "code",
      "metadata": {
        "id": "8g3cI5DAy38j",
        "colab": {
          "base_uri": "https://localhost:8080/",
          "height": 282
        },
        "outputId": "cde633ef-c63f-4f05-c739-7c2b89d76df9"
      },
      "source": [
        "import matplotlib.pyplot as plt\n",
        "\n",
        "# Create the plot here of the data in the vectors T and Y.\n",
        "plt.plot(T, Y)"
      ],
      "execution_count": 5,
      "outputs": [
        {
          "output_type": "execute_result",
          "data": {
            "text/plain": [
              "[<matplotlib.lines.Line2D at 0x7fc99fc19f10>]"
            ]
          },
          "metadata": {},
          "execution_count": 5
        },
        {
          "output_type": "display_data",
          "data": {
            "image/png": "[encoded data removed]",
            "text/plain": [
              "<Figure size 432x288 with 1 Axes>"
            ]
          },
          "metadata": {
            "needs_background": "light"
          }
        }
      ]
    },
    {
      "cell_type": "markdown",
      "metadata": {
        "id": "_jL7OuIYLa4Y"
      },
      "source": [
        "**Problem 2**"
      ]
    },
    {
      "cell_type": "code",
      "metadata": {
        "id": "iKwv9UTP2wVY",
        "colab": {
          "base_uri": "https://localhost:8080/"
        },
        "outputId": "6fde0048-e958-4776-d2f4-b5d7730be141"
      },
      "source": [
        "# This function returns the row [1,cos(t),sin(t), cos(2*t), sin(2*t) , ... , cos(n*t), sin(n*t)] of our matrix X.\n",
        "\n",
        "def row_func(t,n):\n",
        "  L = [j(i*t) for i in range(1,n+1) for j in [np.cos, np.sin]]\n",
        "  L.insert(0,1)\n",
        "  return L\n",
        "\n",
        "row_func(2,5)"
      ],
      "execution_count": 6,
      "outputs": [
        {
          "output_type": "execute_result",
          "data": {
            "text/plain": [
              "[1,\n",
              " -0.4161468365471424,\n",
              " 0.9092974268256817,\n",
              " -0.6536436208636119,\n",
              " -0.7568024953079282,\n",
              " 0.960170286650366,\n",
              " -0.27941549819892586,\n",
              " -0.14550003380861354,\n",
              " 0.9893582466233818,\n",
              " -0.8390715290764524,\n",
              " -0.5440211108893698]"
            ]
          },
          "metadata": {},
          "execution_count": 6
        }
      ]
    },
    {
      "cell_type": "markdown",
      "metadata": {
        "id": "d5ifaZmSMHDw"
      },
      "source": [
        "**Problem 3**"
      ]
    },
    {
      "cell_type": "code",
      "metadata": {
        "id": "s0DwJTH32wZD",
        "colab": {
          "base_uri": "https://localhost:8080/"
        },
        "outputId": "1b4aa704-9008-468b-cf72-593d18363119"
      },
      "source": [
        "# This function returns the matrix X, which we call the design matrix.\n",
        "\n",
        "def design_matrix(n):\n",
        "  # Put your code here.\n",
        "  return np.array([row_func(T[i],n) for i in range(len(T))])\n",
        "\n",
        "design_matrix(10).shape\n",
        "\n",
        "design_matrix(4)[100,:]"
      ],
      "execution_count": 7,
      "outputs": [
        {
          "output_type": "execute_result",
          "data": {
            "text/plain": [
              "array([ 1.        ,  0.54030231,  0.84147098, -0.41614684,  0.90929743,\n",
              "       -0.9899925 ,  0.14112001, -0.65364362, -0.7568025 ])"
            ]
          },
          "metadata": {},
          "execution_count": 7
        }
      ]
    },
    {
      "cell_type": "markdown",
      "metadata": {
        "id": "6jMH7PXwMcuy"
      },
      "source": [
        "**Problem 4**"
      ]
    },
    {
      "cell_type": "code",
      "metadata": {
        "id": "IEx679YY2wb6",
        "colab": {
          "base_uri": "https://localhost:8080/"
        },
        "outputId": "4525bf88-340e-43e2-ec3e-0963519b2c81"
      },
      "source": [
        "X2=design_matrix(2)    # Replace the value of 0 with the NumPy array that is returned from the function call design_matrix(2).\n",
        "X2"
      ],
      "execution_count": 8,
      "outputs": [
        {
          "output_type": "execute_result",
          "data": {
            "text/plain": [
              "array([[ 1.        ,  1.        ,  0.        ,  1.        ,  0.        ],\n",
              "       [ 1.        ,  0.99995   ,  0.00999983,  0.99980001,  0.01999867],\n",
              "       [ 1.        ,  0.99980001,  0.01999867,  0.99920011,  0.03998933],\n",
              "       ...,\n",
              "       [ 1.        ,  0.99973123, -0.02318323,  0.99892508, -0.046354  ],\n",
              "       [ 1.        ,  0.99991308, -0.01318493,  0.99965232, -0.02636756],\n",
              "       [ 1.        ,  0.99999493, -0.0031853 ,  0.99997971, -0.00637057]])"
            ]
          },
          "metadata": {},
          "execution_count": 8
        }
      ]
    },
    {
      "cell_type": "markdown",
      "metadata": {
        "id": "kb9FLrTTM0sj"
      },
      "source": [
        "**Problem 5**"
      ]
    },
    {
      "cell_type": "code",
      "metadata": {
        "id": "szmSRQQi2wes"
      },
      "source": [
        "# Replace all of the 0 values with the NumPy matrices and vectors requested in Problem 5.\n",
        "x2_trans = np.transpose(X2)\n",
        "normal_coef2=np.matmul(x2_trans,X2)\n",
        "\n",
        "normal_vect2=np.matmul(x2_trans,Y)\n",
        "\n",
        "beta2=np.linalg.solve(normal_coef2, normal_vect2)"
      ],
      "execution_count": 9,
      "outputs": []
    },
    {
      "cell_type": "markdown",
      "metadata": {
        "id": "5WB-yTRsNKib"
      },
      "source": [
        "**Problem 6**"
      ]
    },
    {
      "cell_type": "code",
      "metadata": {
        "id": "MmdpSsYQ2whe",
        "colab": {
          "base_uri": "https://localhost:8080/"
        },
        "outputId": "2167c10f-26ed-4cac-9541-8206bfd296d6"
      },
      "source": [
        "# This is our function which approximates the signal strength when n=2.\n",
        "\n",
        "def f2(t):\n",
        "  return np.dot(beta2, row_func(t,2))\n",
        "\n",
        "f2(0.75)"
      ],
      "execution_count": 10,
      "outputs": [
        {
          "output_type": "execute_result",
          "data": {
            "text/plain": [
              "0.6089782426454243"
            ]
          },
          "metadata": {},
          "execution_count": 10
        }
      ]
    },
    {
      "cell_type": "markdown",
      "metadata": {
        "id": "1AoEo5z6Ne0z"
      },
      "source": [
        "**Problem 7**"
      ]
    },
    {
      "cell_type": "code",
      "metadata": {
        "id": "d58LBX-n2wkf",
        "colab": {
          "base_uri": "https://localhost:8080/",
          "height": 265
        },
        "outputId": "4492ccc2-f6cb-41f3-b0cb-66cae67c5193"
      },
      "source": [
        "# Create your plot here.  \n",
        "vf2=np.vectorize(f2)    # This creates a new function, vf2, which is\n",
        "                        # the same as f2 except for the fact that is\n",
        "                        # can take a NumPy array as input, instead of\n",
        "                        # individual values.\n",
        "\n",
        "plt.plot(T,Y,'r.')      # Creating the plot of the data points in Y\n",
        "                        # using small red dots.\n",
        "\n",
        "plt.plot(T,vf2(T),'b-') # Creating the plot of the function f2 with a\n",
        "                        # blue line. Here we use the function vf2\n",
        "                        # instead of f2, since we are plugging in a\n",
        "                        # NumPy array T.\n",
        "\n",
        "plt.show()              # Display the plots."
      ],
      "execution_count": 11,
      "outputs": [
        {
          "output_type": "display_data",
          "data": {
            "image/png": "[encoded data removed]",
            "text/plain": [
              "<Figure size 432x288 with 1 Axes>"
            ]
          },
          "metadata": {
            "needs_background": "light"
          }
        }
      ]
    },
    {
      "cell_type": "markdown",
      "metadata": {
        "id": "5-V1WD9UNmZl"
      },
      "source": [
        "**Problem 8**"
      ]
    },
    {
      "cell_type": "code",
      "metadata": {
        "id": "6GA_8AAF2wnY",
        "colab": {
          "base_uri": "https://localhost:8080/"
        },
        "outputId": "96e0b692-7d7d-438f-def2-8556a15af1b9"
      },
      "source": [
        "MSE2=(1/629)*(np.linalg.norm(np.matmul(X2,beta2)-Y)**2)\n",
        "MSE2"
      ],
      "execution_count": 12,
      "outputs": [
        {
          "output_type": "execute_result",
          "data": {
            "text/plain": [
              "0.028019163132420605"
            ]
          },
          "metadata": {},
          "execution_count": 12
        }
      ]
    },
    {
      "cell_type": "markdown",
      "metadata": {
        "id": "8LFlkszMN4nq"
      },
      "source": [
        "**Problem 9**"
      ]
    },
    {
      "cell_type": "code",
      "metadata": {
        "id": "Zy6SewX02wqp",
        "colab": {
          "base_uri": "https://localhost:8080/"
        },
        "outputId": "ad157ae1-d7b6-4af3-d1bd-973e1863c88c"
      },
      "source": [
        "# Replace the 0 values with the values requested in Problem 9.  Remember to copy the decimal values from your practice notebook, not the formulas you used to compute them.\n",
        "X10 = design_matrix(10)\n",
        "\n",
        "x10_trans = np.transpose(X10)\n",
        "normal_coef10=np.matmul(x10_trans,X10)\n",
        "\n",
        "normal_vect10=np.matmul(x10_trans,Y)\n",
        "\n",
        "beta10=np.linalg.solve(normal_coef10, normal_vect10)\n",
        "\n",
        "MSE10=(1/629)*(np.linalg.norm(np.matmul(X10,beta10)-Y)**2)\n",
        "print('MSE10',MSE10)\n",
        "\n",
        "def f10(t):\n",
        "  return np.dot(beta10, row_func(t,10))\n",
        "\n",
        "pred10=f10(0.105)\n",
        "print('pred10',pred10)"
      ],
      "execution_count": 13,
      "outputs": [
        {
          "output_type": "stream",
          "name": "stdout",
          "text": [
            "MSE10 0.009348751458203415\n",
            "pred10 0.5087757565416515\n"
          ]
        }
      ]
    },
    {
      "cell_type": "markdown",
      "metadata": {
        "id": "5KJ4X0qgmW52"
      },
      "source": [
        "**Problem 10**"
      ]
    },
    {
      "cell_type": "code",
      "metadata": {
        "id": "cUMtfns0mWCc",
        "colab": {
          "base_uri": "https://localhost:8080/"
        },
        "outputId": "ea13500a-d8cf-492b-cf07-fe72501a6a64"
      },
      "source": [
        "X100 = design_matrix(100)\n",
        "\n",
        "x100_trans = np.transpose(X100)\n",
        "normal_coef100=np.matmul(x100_trans,X100)\n",
        "\n",
        "normal_vect100=np.matmul(x100_trans,Y)\n",
        "\n",
        "beta100=np.linalg.solve(normal_coef100, normal_vect100)\n",
        "\n",
        "MSE100=(1/629)*(np.linalg.norm(np.matmul(X100,beta100)-Y)**2)\n",
        "print('MSE100',MSE100)\n",
        "\n",
        "def f100(t):\n",
        "  return np.dot(beta100, row_func(t,100))\n",
        "\n",
        "pred100=f100(0.105)\n",
        "print('pred100',pred100)"
      ],
      "execution_count": 14,
      "outputs": [
        {
          "output_type": "stream",
          "name": "stdout",
          "text": [
            "MSE100 0.0014547562364331283\n",
            "pred100 0.5089902472113171\n"
          ]
        }
      ]
    },
    {
      "cell_type": "markdown",
      "metadata": {
        "id": "3gFdGK5_m_iw"
      },
      "source": [
        "**Problem 11**"
      ]
    },
    {
      "cell_type": "code",
      "metadata": {
        "id": "g3ggF7gxDzAp",
        "colab": {
          "base_uri": "https://localhost:8080/"
        },
        "outputId": "2c330901-29f3-4599-d50a-a0fe885f2163"
      },
      "source": [
        "X1000 = design_matrix(1000)\n",
        "\n",
        "x1000_trans = np.transpose(X1000)\n",
        "normal_coef1000=np.matmul(x1000_trans,X1000)\n",
        "\n",
        "normal_vect1000=np.matmul(x1000_trans,Y)\n",
        "\n",
        "beta1000=np.linalg.solve(normal_coef1000, normal_vect1000)\n",
        "\n",
        "MSE1000=(1/629)*(np.linalg.norm(np.matmul(X1000,beta1000)-Y)**2)\n",
        "print('MSE1000',MSE1000)\n",
        "\n",
        "def f1000(t):\n",
        "  return np.dot(beta1000, row_func(t,1000))\n",
        "\n",
        "pred1000=f1000(0.105)\n",
        "print('pred1000',pred1000)"
      ],
      "execution_count": 15,
      "outputs": [
        {
          "output_type": "stream",
          "name": "stdout",
          "text": [
            "MSE1000 0.0014547562364331283\n",
            "pred1000 63.223687525069195\n"
          ]
        }
      ]
    },
    {
      "cell_type": "markdown",
      "metadata": {
        "id": "bAO57Q_PGt-R"
      },
      "source": [
        "**STOP!  BEFORE YOU SUBMIT THIS LAB:**  Go to the \"Runtime\" menu at the top of this page, and select \"Restart and run all\".  If any of the cells produce error messages, you will either need to fix the error(s) or delete the code that is causing the error(s).  Then use \"Restart and run all\" again to see if there are any new errors.  Repeat this until no new error messages show up.   "
      ]
    },
    {
      "cell_type": "markdown",
      "metadata": {
        "id": "CG2Gju8CGxZU"
      },
      "source": [
        "**You are not ready to submit until you are able to select \"Restart and run all\" without any new error messages showing up.  Your code will not be able to be graded if there are any error messages.**"
      ]
    },
    {
      "cell_type": "markdown",
      "metadata": {
        "id": "KmCDBD_QoPLh"
      },
      "source": [
        "To submit your lab for grading you must first download it to your compute as .py file. In the \"File\" menu select \"Download .py\". The resulting file can then be uploaded to http://www.math.byu.edu:30000 for grading."
      ]
    }
  ]
}