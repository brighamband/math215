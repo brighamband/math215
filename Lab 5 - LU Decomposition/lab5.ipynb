{
  "nbformat": 4,
  "nbformat_minor": 0,
  "metadata": {
    "colab": {
      "name": "lab5.ipynb",
      "provenance": [],
      "collapsed_sections": []
    },
    "kernelspec": {
      "name": "python3",
      "display_name": "Python 3"
    }
  },
  "cells": [
    {
      "cell_type": "markdown",
      "metadata": {
        "id": "qEJhOZ51lG2W"
      },
      "source": [
        "#**Lab 5 - LU decompositions and Gaussian elimination**"
      ]
    },
    {
      "cell_type": "markdown",
      "metadata": {
        "id": "y0oQ0MWSlwfG"
      },
      "source": [
        "Enter your code in the spaces provided. Do not change any of the variable names or function names that are already provided for you. In places where we specify the name of the return value, make sure that your code produces the a value with the correct name."
      ]
    },
    {
      "cell_type": "code",
      "metadata": {
        "id": "UyLKhewcUu6m"
      },
      "source": [
        "# Do not edit this cell.\n",
        "\n",
        "LabID=\"Lab5\"\n",
        "\n",
        "try:\n",
        "  from graderHelp import ISGRADEPLOT\n",
        "except ImportError:\n",
        "  ISGRADEPLOT = True"
      ],
      "execution_count": 1,
      "outputs": []
    },
    {
      "cell_type": "markdown",
      "metadata": {
        "id": "CGHZ14CWl0sS"
      },
      "source": [
        "**Enter your name, section number, and BYU NetID**"
      ]
    },
    {
      "cell_type": "code",
      "metadata": {
        "id": "knzMO488lOPx"
      },
      "source": [
        "# Enter your first and last names in between the quotation marks.\n",
        "\n",
        "first_name=\"Brigham\"\n",
        "\n",
        "last_name=\"Andersen\"\n",
        "\n",
        "# Enter your Math 215 section number in between the quotation marks. \n",
        "\n",
        "section_number=\"001\"  \n",
        "\n",
        "# Enter your BYU NetID in between the quotation marks.  NOT YOUR BYU ID NUMBER! \n",
        "\n",
        "BYUNetID=\"abrigham\" "
      ],
      "execution_count": 2,
      "outputs": []
    },
    {
      "cell_type": "markdown",
      "metadata": {
        "id": "sXLH1s6F6et4"
      },
      "source": [
        "**Import NumPy**"
      ]
    },
    {
      "cell_type": "code",
      "metadata": {
        "id": "EjD80ENR6g6A"
      },
      "source": [
        "import numpy as np"
      ],
      "execution_count": 3,
      "outputs": []
    },
    {
      "cell_type": "markdown",
      "metadata": {
        "id": "8TbgwXGZmETs"
      },
      "source": [
        "**Problem 1**"
      ]
    },
    {
      "cell_type": "code",
      "metadata": {
        "id": "dzudpi4_l8-8"
      },
      "source": [
        "def augment(A,b):\n",
        "  aug_m = []\n",
        "  for i in range(len(b)):\n",
        "    row = np.append(A[i], b[i]).tolist()\n",
        "    aug_m.append(row)\n",
        "  return np.array(aug_m)"
      ],
      "execution_count": 4,
      "outputs": []
    },
    {
      "cell_type": "code",
      "metadata": {
        "colab": {
          "base_uri": "https://localhost:8080/"
        },
        "id": "3DZM4LIGjia6",
        "outputId": "740c0f82-c28b-43fb-f751-c8ad99d8b677"
      },
      "source": [
        "C=np.array([[3,2,1,1],[1,-2,1,1],[5,0,1,5]])\n",
        "b=np.array([-1,3,2])\n",
        "augment(C,b)"
      ],
      "execution_count": 5,
      "outputs": [
        {
          "output_type": "execute_result",
          "data": {
            "text/plain": [
              "array([[ 3,  2,  1,  1, -1],\n",
              "       [ 1, -2,  1,  1,  3],\n",
              "       [ 5,  0,  1,  5,  2]])"
            ]
          },
          "metadata": {},
          "execution_count": 5
        }
      ]
    },
    {
      "cell_type": "markdown",
      "metadata": {
        "id": "5KJ4X0qgmW52"
      },
      "source": [
        "**Problem 2**"
      ]
    },
    {
      "cell_type": "code",
      "metadata": {
        "id": "cUMtfns0mWCc"
      },
      "source": [
        "def first_column_zeros(A):\n",
        "  B=np.copy(A)\n",
        "  for i in range(1, len(B)):\n",
        "    B[i] = B[i] - (B[i,0] / B[0,0]) * B[0]\n",
        "  return B"
      ],
      "execution_count": 6,
      "outputs": []
    },
    {
      "cell_type": "code",
      "metadata": {
        "colab": {
          "base_uri": "https://localhost:8080/"
        },
        "id": "JT0e0nGooGip",
        "outputId": "d1c519e7-c4c9-4e87-db2c-6e447527fd1f"
      },
      "source": [
        "A=np.array([[2,1,3,1],[1,2,-1,2.5],[4,2,-1,1]])\n",
        "first_column_zeros(A)"
      ],
      "execution_count": 7,
      "outputs": [
        {
          "output_type": "execute_result",
          "data": {
            "text/plain": [
              "array([[ 2. ,  1. ,  3. ,  1. ],\n",
              "       [ 0. ,  1.5, -2.5,  2. ],\n",
              "       [ 0. ,  0. , -7. , -1. ]])"
            ]
          },
          "metadata": {},
          "execution_count": 7
        }
      ]
    },
    {
      "cell_type": "markdown",
      "metadata": {
        "id": "3gFdGK5_m_iw"
      },
      "source": [
        "**Problem 3**"
      ]
    },
    {
      "cell_type": "code",
      "metadata": {
        "id": "dEt45tv6m6l2"
      },
      "source": [
        "def row_echelon(A,b): \n",
        "  B = augment(A,b)\n",
        "  for i in range(len(B)):\n",
        "      B[i:,i:] = first_column_zeros(B[i:,i:])\n",
        "  return B"
      ],
      "execution_count": 8,
      "outputs": []
    },
    {
      "cell_type": "code",
      "metadata": {
        "colab": {
          "base_uri": "https://localhost:8080/"
        },
        "id": "_g0738Slrp1g",
        "outputId": "a4737421-94c2-4dd7-e87c-ff6c95427c60"
      },
      "source": [
        "A=np.array([[3.,1.,-2.],[1.,2.,-5.],[2.,-4.,1.]])\n",
        "b=np.array([1.1,2,-3])\n",
        "\n",
        "row_echelon(A,b)"
      ],
      "execution_count": 9,
      "outputs": [
        {
          "output_type": "execute_result",
          "data": {
            "text/plain": [
              "array([[ 3.        ,  1.        , -2.        ,  1.1       ],\n",
              "       [ 0.        ,  1.66666667, -4.33333333,  1.63333333],\n",
              "       [ 0.        ,  0.        , -9.8       ,  0.84      ]])"
            ]
          },
          "metadata": {},
          "execution_count": 9
        }
      ]
    },
    {
      "cell_type": "markdown",
      "metadata": {
        "id": "GD3rR1rmngih"
      },
      "source": [
        "**Problem 4**"
      ]
    },
    {
      "cell_type": "code",
      "metadata": {
        "id": "Wun2LuScnf86"
      },
      "source": [
        "def LU_decomposition(A):\n",
        "  U=np.copy(A)\n",
        "  L=np.identity(len(A))\n",
        "  m, n = np.shape(A)\n",
        "  for i in range(0,n):\n",
        "    for j in range(i+1,m):\n",
        "      L[j,i] = U[j,i] / U[i,i]\n",
        "      U[j, :] = U[j,:] - L[j,i] * U[i,:]\n",
        "  return L,U # We've included the return values for you, though your function needs to define them correctly."
      ],
      "execution_count": 10,
      "outputs": []
    },
    {
      "cell_type": "code",
      "metadata": {
        "colab": {
          "base_uri": "https://localhost:8080/"
        },
        "id": "REH1xoPBQfxe",
        "outputId": "65a1b69e-a733-4c09-e3f7-50b6d2484368"
      },
      "source": [
        "A=np.array([[3,1,-2],[1.5,2,-5],[2,-4,1]])\n",
        "\n",
        "LU_decomposition(A)"
      ],
      "execution_count": 11,
      "outputs": [
        {
          "output_type": "execute_result",
          "data": {
            "text/plain": [
              "(array([[ 1.        ,  0.        ,  0.        ],\n",
              "        [ 0.5       ,  1.        ,  0.        ],\n",
              "        [ 0.66666667, -3.11111111,  1.        ]]),\n",
              " array([[  3.        ,   1.        ,  -2.        ],\n",
              "        [  0.        ,   1.5       ,  -4.        ],\n",
              "        [  0.        ,   0.        , -10.11111111]]))"
            ]
          },
          "metadata": {},
          "execution_count": 11
        }
      ]
    },
    {
      "cell_type": "markdown",
      "metadata": {
        "id": "LhCNjC6CoLgr"
      },
      "source": [
        "**Problem 5**"
      ]
    },
    {
      "cell_type": "code",
      "metadata": {
        "id": "z8cXXktXfGKi"
      },
      "source": [
        "def forward_substitution(L,b): # Accepts a lower triangular square matrix L and a vector b, solves Ly=b for y.\n",
        "  n = len(b)\n",
        "  y = np.zeros(n)\n",
        "  for i in range(0,n):\n",
        "    y[i] = (b[i] - np.dot(y, L[i,:])) / L[i,i]\n",
        "  return y"
      ],
      "execution_count": 12,
      "outputs": []
    },
    {
      "cell_type": "code",
      "metadata": {
        "colab": {
          "base_uri": "https://localhost:8080/"
        },
        "id": "dGoOQknhUU0r",
        "outputId": "2b61d30a-9bc1-408e-9022-156a486a66d7"
      },
      "source": [
        "L=np.array([[1,0,0],[3,1,0],[-1.1,2,1]])\n",
        "b=np.array([-2.1,1,-1])\n",
        "\n",
        "forward_substitution(L,b)"
      ],
      "execution_count": 13,
      "outputs": [
        {
          "output_type": "execute_result",
          "data": {
            "text/plain": [
              "array([ -2.1 ,   7.3 , -17.91])"
            ]
          },
          "metadata": {},
          "execution_count": 13
        }
      ]
    },
    {
      "cell_type": "markdown",
      "metadata": {
        "id": "iJL0cSqZiQjH"
      },
      "source": [
        "**Problem 6**"
      ]
    },
    {
      "cell_type": "code",
      "metadata": {
        "id": "6LJ5JLzfiQai"
      },
      "source": [
        "def back_substitution(U,y):    # Accepts an upper triangular square matrix U and a vector b, solves Ux=b for x.\n",
        "  n = len(y)\n",
        "  x = np.zeros(n)\n",
        "  for i in range(n-1,-1,-1):\n",
        "    x[i] = (y[i] - np.dot(x, U[i,:])) / U[i,i]\n",
        "  return x"
      ],
      "execution_count": 14,
      "outputs": []
    },
    {
      "cell_type": "code",
      "metadata": {
        "colab": {
          "base_uri": "https://localhost:8080/"
        },
        "id": "zDH_l767VYFn",
        "outputId": "8985f03d-7349-4626-d9e3-00c9a8e55905"
      },
      "source": [
        "U=np.array([[2,-3.1,1],[0,1,3],[0,0,4]])\n",
        "y=np.array([1,-2.1,3])\n",
        "\n",
        "back_substitution(U,y)"
      ],
      "execution_count": 15,
      "outputs": [
        {
          "output_type": "execute_result",
          "data": {
            "text/plain": [
              "array([-6.6175, -4.35  ,  0.75  ])"
            ]
          },
          "metadata": {},
          "execution_count": 15
        }
      ]
    },
    {
      "cell_type": "markdown",
      "metadata": {
        "id": "2Tx7g_driMNS"
      },
      "source": [
        "**Problem 7**"
      ]
    },
    {
      "cell_type": "code",
      "metadata": {
        "id": "zbGvfgyFoB48"
      },
      "source": [
        "def LU_solver(A,b): \n",
        "  L, U = LU_decomposition(A)\n",
        "  y = forward_substitution(L, b)\n",
        "  return back_substitution(U, y)"
      ],
      "execution_count": 16,
      "outputs": []
    },
    {
      "cell_type": "code",
      "metadata": {
        "colab": {
          "base_uri": "https://localhost:8080/"
        },
        "id": "RVzAbW7KWThA",
        "outputId": "ec9a9963-0172-4d6c-c76e-c482e9b9ed94"
      },
      "source": [
        "A=np.array([[3,1,-2],[1.5,2,-5],[2,-4,1]])\n",
        "b=np.array([1.1,3,-2])\n",
        "\n",
        "LU_solver(A,b)"
      ],
      "execution_count": 17,
      "outputs": [
        {
          "output_type": "execute_result",
          "data": {
            "text/plain": [
              "array([-0.07032967,  0.34395604, -0.48351648])"
            ]
          },
          "metadata": {},
          "execution_count": 17
        }
      ]
    },
    {
      "cell_type": "markdown",
      "metadata": {
        "id": "CeTKOgpv7DWs"
      },
      "source": [
        "**STOP!  BEFORE YOU SUBMIT THIS LAB:**  Go to the \"Runtime\" menu at the top of this page, and select \"Restart and run all\".  If any of the cells produce error messages, you will either need to fix the error(s) or delete the code that is causing the error(s).  Then use \"Restart and run all\" again to see if there are any new errors.  Repeat this until no new error messages show up.   "
      ]
    },
    {
      "cell_type": "markdown",
      "metadata": {
        "id": "80COE0bF7JGu"
      },
      "source": [
        "**You are not ready to submit until you are able to select \"Restart and run all\" without any new error messages showing up.  Your code will not be able to be graded if there are any error messages.**"
      ]
    },
    {
      "cell_type": "markdown",
      "metadata": {
        "id": "aYrvCGC0msYu"
      },
      "source": [
        "To submit your lab for grading you must first download it to your compute as .py file. In the \"File\" menu select \"Download .py\". The resulting file can then be uploaded to http://www.math.byu.edu:30000 for grading."
      ]
    }
  ]
}