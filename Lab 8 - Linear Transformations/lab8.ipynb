{
  "nbformat": 4,
  "nbformat_minor": 0,
  "metadata": {
    "colab": {
      "name": "lab8.ipynb",
      "provenance": [],
      "collapsed_sections": []
    },
    "kernelspec": {
      "display_name": "Python 3",
      "language": "python",
      "name": "python3"
    },
    "language_info": {
      "codemirror_mode": {
        "name": "ipython",
        "version": 3
      },
      "file_extension": ".py",
      "mimetype": "text/x-python",
      "name": "python",
      "nbconvert_exporter": "python",
      "pygments_lexer": "ipython3",
      "version": "3.6.1"
    }
  },
  "cells": [
    {
      "cell_type": "markdown",
      "metadata": {
        "id": "qEJhOZ51lG2W"
      },
      "source": [
        "#**Lab 8 - Linear Transformations**"
      ]
    },
    {
      "cell_type": "markdown",
      "metadata": {
        "id": "y0oQ0MWSlwfG"
      },
      "source": [
        "Enter your code in the spaces provided. Do not change any of the variable names or function names that are already provided for you. In places where we specify the name of the return value, make sure that your code produces the a value with the correct name."
      ]
    },
    {
      "cell_type": "code",
      "metadata": {
        "id": "jB8bV8PFhHxd"
      },
      "source": [
        "# Do not edit this cell.\n",
        "\n",
        "LabID=\"Lab8\"\n",
        "\n",
        "try:\n",
        "  from graderHelp import ISGRADEPLOT\n",
        "except ImportError:\n",
        "  ISGRADEPLOT = True"
      ],
      "execution_count": 1,
      "outputs": []
    },
    {
      "cell_type": "markdown",
      "metadata": {
        "id": "CGHZ14CWl0sS"
      },
      "source": [
        "**Enter your name, section number, and BYU NetID**"
      ]
    },
    {
      "cell_type": "code",
      "metadata": {
        "id": "knzMO488lOPx"
      },
      "source": [
        "# Enter your first and last names in between the quotation marks.\n",
        "\n",
        "first_name=\"Brigham\"\n",
        "\n",
        "last_name=\"Andersen\"\n",
        "\n",
        "# Enter your Math 215 section number in between the quotation marks. \n",
        "\n",
        "section_number=\"001\"  \n",
        "\n",
        "# Enter your BYU NetID in between the quotation marks.  NOT YOUR BYU ID NUMBER! \n",
        "\n",
        "BYUNetID=\"abrigham\" "
      ],
      "execution_count": 2,
      "outputs": []
    },
    {
      "cell_type": "markdown",
      "metadata": {
        "id": "9Py4QSWuhVp0"
      },
      "source": [
        "**Import NumPy**"
      ]
    },
    {
      "cell_type": "code",
      "metadata": {
        "id": "os3N0YEmhV7K"
      },
      "source": [
        "import numpy as np"
      ],
      "execution_count": 3,
      "outputs": []
    },
    {
      "cell_type": "markdown",
      "metadata": {
        "id": "vgeFcnsIQDyY"
      },
      "source": [
        "**Problem 1**"
      ]
    },
    {
      "cell_type": "code",
      "metadata": {
        "id": "fUYo4iQUQWEf",
        "colab": {
          "base_uri": "https://localhost:8080/"
        },
        "outputId": "a0a36f50-87bc-4c55-bbe1-8d5d935f62ad"
      },
      "source": [
        "# This function reads in a vector and outputs the transformed vector Ax.\n",
        "A = np.array([[2,1],[1,-3],[0,1]])\n",
        "def transform(x):\n",
        "  return np.matmul(A,x)\n",
        "\n",
        "transform([1,2])"
      ],
      "execution_count": 4,
      "outputs": [
        {
          "output_type": "execute_result",
          "data": {
            "text/plain": [
              "array([ 4, -5,  2])"
            ]
          },
          "metadata": {},
          "execution_count": 4
        }
      ]
    },
    {
      "cell_type": "markdown",
      "metadata": {
        "id": "a9dSi0jyr_uI"
      },
      "source": [
        "**Downloading and visualizing our data**"
      ]
    },
    {
      "cell_type": "markdown",
      "metadata": {
        "id": "jLk8UjresEsO"
      },
      "source": [
        "The simplest way to load the data into Colab is to first download it as a .csv file to your local computer by clicking the link\n",
        "\n",
        "https://drive.google.com/uc?export=download&id=1tWus0zXDSahrms0dl8TTV0Pl8bbWlx9j\n",
        "\n",
        "This will allow you to download the data as a .csv file. In the top left corner of this screen you should see a little file folder icon.   Selecting it opens a new window to the left of the notebook with three tabs: \"Upload\", \"Refresh\", and \"Mount Drive\". Select \"Upload\".  This should bring up a window that allows you to select the file \"cougar.csv\" from your local machine, which will upload the file to your notebook.  You will need to do this again if you decide to close your notebook and reopen it at a later time."
      ]
    },
    {
      "cell_type": "markdown",
      "metadata": {
        "id": "fjOug1ALtPt2"
      },
      "source": [
        "Once you've uploaded your file, convert it to a NumPy array called \"cougar\" by executing the following cell."
      ]
    },
    {
      "cell_type": "code",
      "metadata": {
        "id": "GNhO3MUEtWtS",
        "colab": {
          "base_uri": "https://localhost:8080/"
        },
        "outputId": "25e9d265-eabf-4adf-eaa1-5dfc1a5b4af6"
      },
      "source": [
        "import pandas as pd\n",
        "from matplotlib import pyplot as plt\n",
        "\n",
        "df = pd.read_csv('cougar.csv')\n",
        "cougar=df.values\n",
        "cougar"
      ],
      "execution_count": 5,
      "outputs": [
        {
          "output_type": "execute_result",
          "data": {
            "text/plain": [
              "array([[ 0.11833, -0.665  ,  0.035  , ..., -0.1    ,  0.685  , -0.51   ],\n",
              "       [-0.265  ,  0.44333, -0.84833, ...,  0.115  ,  0.31167,  0.69667]])"
            ]
          },
          "metadata": {},
          "execution_count": 5
        }
      ]
    },
    {
      "cell_type": "markdown",
      "metadata": {
        "id": "TsddMhLDGxAq"
      },
      "source": [
        "Now let's define a function that we can use to plot the array cougar that we've just created (or any other array of points which we'd like to visualize)."
      ]
    },
    {
      "cell_type": "code",
      "metadata": {
        "id": "7JLiey4RaMeV",
        "colab": {
          "base_uri": "https://localhost:8080/",
          "height": 269
        },
        "outputId": "d835559c-63be-4a82-b8d1-963bd50bc639"
      },
      "source": [
        "def showplot(H):\n",
        "  # This function displays the image produce by the collection of coordinates given in H\n",
        "  cougarplot=plt.plot(H[0,:],H[1,:],'k.',markersize=3.5)\n",
        "  plt.axis([-1.5,1.5,-1.5,1.5])\n",
        "  plt.gca().set_aspect(\"equal\")\n",
        "  plt.show()\n",
        "  return None\n",
        "\n",
        "\n",
        "# Let's test the function above by plotting the data in our NumPy array cougar  \n",
        "showplot(cougar)"
      ],
      "execution_count": 6,
      "outputs": [
        {
          "output_type": "display_data",
          "data": {
            "image/png": "[encoded data removed]",
            "text/plain": [
              "<Figure size 432x288 with 1 Axes>"
            ]
          },
          "metadata": {
            "needs_background": "light"
          }
        }
      ]
    },
    {
      "cell_type": "markdown",
      "metadata": {
        "id": "k0BnpMqJHKWp"
      },
      "source": [
        "**Problem 2**"
      ]
    },
    {
      "cell_type": "code",
      "metadata": {
        "id": "dzudpi4_l8-8",
        "colab": {
          "base_uri": "https://localhost:8080/",
          "height": 269
        },
        "outputId": "5a69536a-d7ab-40f3-d320-177fac3b2f78"
      },
      "source": [
        "# This function should take a matrix of coordinates, and output a matrix which corresponds to the image that has been stetched in the \n",
        "# horizantal direction by a factor of a and in the verticle direction by a factor of b.\n",
        "\n",
        "def stretch(image,a,b):\n",
        "  A = np.array([[a,0],[0,b]])\n",
        "  return np.matmul(A, image)\n",
        "\n",
        "stretched_cougar = stretch(cougar, 1/2, 6/5)\n",
        "showplot(stretched_cougar)"
      ],
      "execution_count": 7,
      "outputs": [
        {
          "output_type": "display_data",
          "data": {
            "image/png": "[encoded data removed]",
            "text/plain": [
              "<Figure size 432x288 with 1 Axes>"
            ]
          },
          "metadata": {
            "needs_background": "light"
          }
        }
      ]
    },
    {
      "cell_type": "code",
      "metadata": {
        "id": "VyyrN06KCj6c",
        "colab": {
          "base_uri": "https://localhost:8080/",
          "height": 269
        },
        "outputId": "138a5adc-b028-48c7-d4f4-bbca8375a04f"
      },
      "source": [
        "# This function should take a matrix of coordinates, and output a matrix which corresponds to the image that has been sheared by a horizantal factor of a and \n",
        "# a vertical factor of b\n",
        "\n",
        "def shear(image,a,b): \n",
        "  A = np.array([[1,a],[b,1]])\n",
        "  return np.matmul(A, image)\n",
        "\n",
        "sheared_cougar = shear(cougar, 1/2, 0)\n",
        "showplot(sheared_cougar)"
      ],
      "execution_count": 8,
      "outputs": [
        {
          "output_type": "display_data",
          "data": {
            "image/png": "[encoded data removed]",
            "text/plain": [
              "<Figure size 432x288 with 1 Axes>"
            ]
          },
          "metadata": {
            "needs_background": "light"
          }
        }
      ]
    },
    {
      "cell_type": "code",
      "metadata": {
        "id": "vZPDbOQUC3ot",
        "colab": {
          "base_uri": "https://localhost:8080/",
          "height": 269
        },
        "outputId": "329224b9-526a-494c-9a9f-eea4cced6a39"
      },
      "source": [
        "# This function should take a matrix of coordinates, and output a matrix which corresponds to the image that has been reflected in the \n",
        "# line spanned by the vector [a,b]^T\n",
        "\n",
        "def reflect(image,a,b): \n",
        "  A = np.array([[a**2-b**2,2*a*b],[2*a*b,b**2-a**2]])\n",
        "  A = A * ((1)/(a**2+b**2)) \n",
        "  return np.matmul(A, image)\n",
        "\n",
        "reflected_cougar = reflect(cougar, 1/2, 1)\n",
        "showplot(reflected_cougar)"
      ],
      "execution_count": 9,
      "outputs": [
        {
          "output_type": "display_data",
          "data": {
            "image/png": "[encoded data removed]",
            "text/plain": [
              "<Figure size 432x288 with 1 Axes>"
            ]
          },
          "metadata": {
            "needs_background": "light"
          }
        }
      ]
    },
    {
      "cell_type": "code",
      "metadata": {
        "id": "F6YUeFbnC7iz",
        "colab": {
          "base_uri": "https://localhost:8080/",
          "height": 269
        },
        "outputId": "a9ebec81-d8a3-4db8-d7e1-0038b6670763"
      },
      "source": [
        "# This function should take a matrix of coordinates, and output a matrix which corresponds to the image that has been rotated in the \n",
        "# counterclockwise direction by an angle of theta radians.\n",
        "\n",
        "def rotate(image,theta): \n",
        "  A = np.array([[np.cos(theta),-1*np.sin(theta)],[np.sin(theta),np.cos(theta)]])\n",
        "  return np.matmul(A, image)\n",
        "\n",
        "rotated_cougar = rotate(cougar, 3*np.pi/2)\n",
        "showplot(rotated_cougar)"
      ],
      "execution_count": 10,
      "outputs": [
        {
          "output_type": "display_data",
          "data": {
            "image/png": "[encoded data removed]",
            "text/plain": [
              "<Figure size 432x288 with 1 Axes>"
            ]
          },
          "metadata": {
            "needs_background": "light"
          }
        }
      ]
    },
    {
      "cell_type": "markdown",
      "metadata": {
        "id": "_jL7OuIYLa4Y"
      },
      "source": [
        "**Problem 3**"
      ]
    },
    {
      "cell_type": "code",
      "metadata": {
        "id": "iKwv9UTP2wVY",
        "colab": {
          "base_uri": "https://localhost:8080/"
        },
        "outputId": "e31bb8c4-5253-4dc0-d5c4-5ef9ccf3ae4b"
      },
      "source": [
        "iden=np.array([[1,0],[0,1]]) # The identity matrix may be helpful here.\n",
        "\n",
        "trans1 = stretch(iden, 1, 2)\n",
        "trans2 = rotate(trans1, -1*np.pi/4)\n",
        "trans3 = reflect(trans2, 2, -3)\n",
        "trans4 = stretch(trans3, 1/2, 1)\n",
        "\n",
        "comp_matrix=trans4\n",
        "comp_matrix"
      ],
      "execution_count": 11,
      "outputs": [
        {
          "output_type": "execute_result",
          "data": {
            "text/plain": [
              "array([[ 0.1903749 , -0.9246781 ],\n",
              "       [-0.9246781 , -0.76149961]])"
            ]
          },
          "metadata": {},
          "execution_count": 11
        }
      ]
    },
    {
      "cell_type": "markdown",
      "metadata": {
        "id": "jOs-LepsdSRb"
      },
      "source": [
        "The following code can be copied to your practice notebook and used to visualize the linear transformations in the following questions."
      ]
    },
    {
      "cell_type": "code",
      "metadata": {
        "id": "sJHW0TmzdSRc"
      },
      "source": [
        "from matplotlib import pyplot as plt\n",
        "import numpy as np\n",
        "\n",
        "def plot_transformation(mat):\n",
        "    plt.cla()\n",
        "    e1=np.array([1,0])\n",
        "    e2=np.array([0,1])\n",
        "    v3=e1+e2\n",
        "    plot_lims=abs(np.array([[0,1],mat@e1,mat@v3,mat@e2])).max()\n",
        "    trans_square=plt.Polygon([mat@e1,mat@v3,mat@e2,[0,0]],ec=(0,0,1,1),fc=(0,0,1,0.5))\n",
        "    orig_square=plt.Polygon([e1,v3,e2,[0,0]],fc=(1,0,0,0.5),ec=(1,0,0,1))\n",
        "    plt.gca().add_patch(trans_square)\n",
        "    plt.gca().add_patch(orig_square)\n",
        "    plt.axis('scaled')\n",
        "    plt.ylim(-1.05*plot_lims,1.05*plot_lims)\n",
        "    plt.xlim(-1.05*plot_lims,1.05*plot_lims)\n",
        "    ax=plt.gca()\n",
        "    ax.spines['top'].set_position(('data',0))\n",
        "    ax.spines['right'].set_position(('data',0))\n",
        "    ax.spines['bottom'].set_position(('data',0))\n",
        "    ax.spines['left'].set_position(('data',0))\n",
        "    plt.show()\n",
        "    return"
      ],
      "execution_count": 12,
      "outputs": []
    },
    {
      "cell_type": "markdown",
      "metadata": {
        "id": "d5ifaZmSMHDw"
      },
      "source": [
        "**Problem 4**"
      ]
    },
    {
      "cell_type": "code",
      "metadata": {
        "id": "Bf7gCJVudSRf",
        "colab": {
          "base_uri": "https://localhost:8080/"
        },
        "outputId": "b628a43b-85e9-4d33-9b9c-8570e3036247"
      },
      "source": [
        "def area(A): \n",
        "  e1 = np.matmul(A, np.array([1,0]))\n",
        "  e2 = np.matmul(A, np.array([0,1]))\n",
        "  a = np.linalg.norm(e1)\n",
        "  b = np.linalg.norm(e2)\n",
        "  numerator = np.dot(e1,e2)\n",
        "  denominator = a * b\n",
        "  theta = np.arccos(numerator/denominator)\n",
        "  return a * b * np.sin(theta)\n",
        "\n",
        "D=np.array([[1,3],[2,-1]])\n",
        "area(D)"
      ],
      "execution_count": 13,
      "outputs": [
        {
          "output_type": "execute_result",
          "data": {
            "text/plain": [
              "7.000000000000002"
            ]
          },
          "metadata": {},
          "execution_count": 13
        }
      ]
    },
    {
      "cell_type": "markdown",
      "metadata": {
        "id": "zij3cvmC-n_k"
      },
      "source": [
        "**Problem 5**"
      ]
    },
    {
      "cell_type": "code",
      "metadata": {
        "id": "xw4fhSGodSRh"
      },
      "source": [
        "# Save the values of the determinants of the matrices A,B,C, and D from Problem 5.\n",
        "M = np.array([[2,1],[-2,4]])\n",
        "detM=np.linalg.det(M)\n",
        "\n",
        "N = np.array([[3,1],[2,-1]])\n",
        "detN=np.linalg.det(N)\n",
        "\n",
        "P = np.array([[-1,2],[-1,-1]])\n",
        "detP=np.linalg.det(P)\n",
        "\n",
        "Q = np.array([[0.6,-0.5],[0.2,-0.5]])\n",
        "detQ=np.linalg.det(Q)"
      ],
      "execution_count": 14,
      "outputs": []
    },
    {
      "cell_type": "markdown",
      "metadata": {
        "id": "GjdxOJSYLSXV"
      },
      "source": [
        "**Problem 6**"
      ]
    },
    {
      "cell_type": "code",
      "metadata": {
        "id": "eWRn6t7wdSRi"
      },
      "source": [
        "# Save the values of the matrix A and the area of the ellipse from Problem 6.\n",
        "\n",
        "ellipse_matrix=np.array([[1.5,1],[0.5,-2.75]])\n",
        "\n",
        "ellipse_area=abs(np.linalg.det(ellipse_matrix))*np.pi"
      ],
      "execution_count": 15,
      "outputs": []
    },
    {
      "cell_type": "markdown",
      "metadata": {
        "id": "gqwYTp97_WX2"
      },
      "source": [
        "**Problem 7**"
      ]
    },
    {
      "cell_type": "code",
      "metadata": {
        "id": "43DiKfCldSRj"
      },
      "source": [
        "# Save the values of the determinants of the matrices B1,B3,B6, and B0 from Problem 5.\n",
        "B1 = np.array([[4,3],[2,6]])\n",
        "detB1=np.linalg.det(B1)\n",
        "\n",
        "B3 = np.array([[1.5,3],[2,6]])\n",
        "detB3=np.linalg.det(B3)\n",
        "\n",
        "B6 = np.array([[1.00001,3],[2,6]])\n",
        "detB6=np.linalg.det(B6)\n",
        "\n",
        "B0 = np.array([[1,3],[2,6]])\n",
        "detB0=np.linalg.det(B0)"
      ],
      "execution_count": 16,
      "outputs": []
    },
    {
      "cell_type": "markdown",
      "metadata": {
        "id": "By-76RQjW_FA"
      },
      "source": [
        "**STOP!  BEFORE YOU SUBMIT THIS LAB:**  Go to the \"Runtime\" menu at the top of this page, and select \"Restart and run all\".  If any of the cells produce error messages, you will either need to fix the error(s) or delete the code that is causing the error(s).  Then use \"Restart and run all\" again to see if there are any new errors.  Repeat this until no new error messages show up.  "
      ]
    },
    {
      "cell_type": "markdown",
      "metadata": {
        "id": "egrWfoOyXB89"
      },
      "source": [
        "**You are not ready to submit until you are able to select \"Restart and run all\" without any new error messages showing up. Your code will not be able to be graded if there are any error messages.**"
      ]
    },
    {
      "cell_type": "markdown",
      "metadata": {
        "id": "L2BoCt8BsgqU"
      },
      "source": [
        "To submit your lab for grading you must first download it to your compute as .py file. In the \"File\" menu select \"Download .py\". The resulting file can then be uploaded to http://www.math.byu.edu:30000 for grading."
      ]
    }
  ]
}