{
  "nbformat": 4,
  "nbformat_minor": 0,
  "metadata": {
    "colab": {
      "name": "scratch-lab1.ipynb",
      "provenance": [],
      "collapsed_sections": []
    },
    "kernelspec": {
      "name": "python3",
      "display_name": "Python 3"
    },
    "language_info": {
      "name": "python"
    }
  },
  "cells": [
    {
      "cell_type": "code",
      "metadata": {
        "id": "oB9fcVuHdM_7"
      },
      "source": [
        "my_first_var=(118+11*2)/(9-2)   # Replace the value of 0 with the required expression from Problem 1."
      ],
      "execution_count": 85,
      "outputs": []
    },
    {
      "cell_type": "code",
      "metadata": {
        "colab": {
          "base_uri": "https://localhost:8080/"
        },
        "id": "o5bDhDPJdPTk",
        "outputId": "4bc859c7-2f87-4757-bd94-7f4b89e70e0e"
      },
      "source": [
        "my_first_var"
      ],
      "execution_count": 86,
      "outputs": [
        {
          "output_type": "execute_result",
          "data": {
            "text/plain": [
              "20.0"
            ]
          },
          "metadata": {},
          "execution_count": 86
        }
      ]
    },
    {
      "cell_type": "code",
      "metadata": {
        "id": "UB9hcr_UWCYR"
      },
      "source": [
        "def triple(y):\n",
        "  return 3 * y # Put your return value here.  "
      ],
      "execution_count": 17,
      "outputs": []
    },
    {
      "cell_type": "code",
      "metadata": {
        "id": "IcN6WADTWO_4"
      },
      "source": [
        "def avg(x,y):\n",
        "  return (x + y) / 2 # Put your return value here."
      ],
      "execution_count": 21,
      "outputs": []
    },
    {
      "cell_type": "code",
      "metadata": {
        "id": "1TKzKJD3WTX4"
      },
      "source": [
        "def combine(x,y):\n",
        "  triple_y = triple(y) # Put your code here.  Remember that this function should call both of the functions triple(y) and avg(x,y) from above.\n",
        "  return avg(x, triple_y) # Put your return value here."
      ],
      "execution_count": 22,
      "outputs": []
    },
    {
      "cell_type": "code",
      "metadata": {
        "colab": {
          "base_uri": "https://localhost:8080/"
        },
        "id": "Afyb76gCWDk2",
        "outputId": "023ed8e7-95ca-4277-a923-af6c2e298ceb"
      },
      "source": [
        "triple(10)"
      ],
      "execution_count": 18,
      "outputs": [
        {
          "output_type": "execute_result",
          "data": {
            "text/plain": [
              "30"
            ]
          },
          "metadata": {},
          "execution_count": 18
        }
      ]
    },
    {
      "cell_type": "code",
      "metadata": {
        "colab": {
          "base_uri": "https://localhost:8080/"
        },
        "id": "EjQiyVVgWMUo",
        "outputId": "20b7be4d-2393-48b7-9800-f88814676645"
      },
      "source": [
        "avg(5,25)"
      ],
      "execution_count": 23,
      "outputs": [
        {
          "output_type": "execute_result",
          "data": {
            "text/plain": [
              "15.0"
            ]
          },
          "metadata": {},
          "execution_count": 23
        }
      ]
    },
    {
      "cell_type": "code",
      "metadata": {
        "colab": {
          "base_uri": "https://localhost:8080/"
        },
        "id": "w9LtChv1WVye",
        "outputId": "cff33391-0f13-4295-f4b6-5565b78f1ecf"
      },
      "source": [
        "combine(6, 5)"
      ],
      "execution_count": 24,
      "outputs": [
        {
          "output_type": "execute_result",
          "data": {
            "text/plain": [
              "10.5"
            ]
          },
          "metadata": {},
          "execution_count": 24
        }
      ]
    },
    {
      "cell_type": "code",
      "metadata": {
        "colab": {
          "base_uri": "https://localhost:8080/"
        },
        "id": "XVsthAT3XHF9",
        "outputId": "009e9925-7f6f-41f4-bbce-99641dc17ff7"
      },
      "source": [
        "my_list=[\"Hello\",91.7,\"world\",15,100,-10.2] \n",
        "\n",
        "print(my_list[-1])\n",
        "print(my_list[-2])\n",
        "print(my_list[-3])\n",
        "print(my_list[-6])"
      ],
      "execution_count": 25,
      "outputs": [
        {
          "output_type": "stream",
          "name": "stdout",
          "text": [
            "-10.2\n",
            "100\n",
            "15\n",
            "Hello\n"
          ]
        }
      ]
    },
    {
      "cell_type": "code",
      "metadata": {
        "colab": {
          "base_uri": "https://localhost:8080/"
        },
        "id": "ozSzc9MuXXwZ",
        "outputId": "9254065d-5c9c-4392-9e0a-ba1dc7cb6761"
      },
      "source": [
        "list_var=[0,1,2,3,4,5,6,7,8,9,10]\n",
        "\n",
        "print(list_var[3:6])\n",
        "print(list_var[0:7])\n",
        "print(list_var[2:6])"
      ],
      "execution_count": 29,
      "outputs": [
        {
          "output_type": "stream",
          "name": "stdout",
          "text": [
            "[3, 4, 5]\n",
            "[0, 1, 2, 3, 4, 5, 6]\n",
            "[2, 3, 4, 5]\n"
          ]
        }
      ]
    },
    {
      "cell_type": "code",
      "metadata": {
        "colab": {
          "base_uri": "https://localhost:8080/"
        },
        "id": "3o83jeI8X4vg",
        "outputId": "49ff544b-5f3b-44da-e62f-b679959cadf8"
      },
      "source": [
        "list_a=[1,2,3]\n",
        "list_b=list_a.copy()\n",
        "list_b[0]=100\n",
        "print(list_a)\n",
        "print(list_b)"
      ],
      "execution_count": 32,
      "outputs": [
        {
          "output_type": "stream",
          "name": "stdout",
          "text": [
            "[1, 2, 3]\n",
            "[100, 2, 3]\n"
          ]
        }
      ]
    },
    {
      "cell_type": "code",
      "metadata": {
        "colab": {
          "base_uri": "https://localhost:8080/"
        },
        "id": "N4C_vu9MYb6Z",
        "outputId": "b3b6e2a9-9d38-4233-9cd7-961abe1d6853"
      },
      "source": [
        "list = [0,1,2,3,4,5]\n",
        "list[1:-1]"
      ],
      "execution_count": 37,
      "outputs": [
        {
          "output_type": "execute_result",
          "data": {
            "text/plain": [
              "[1, 2, 3, 4]"
            ]
          },
          "metadata": {},
          "execution_count": 37
        }
      ]
    },
    {
      "cell_type": "code",
      "metadata": {
        "id": "ib-eGkGAY2RM"
      },
      "source": [
        "def first(c):\n",
        "  # Put your code here.\n",
        "  return c[0] # Put your return value here."
      ],
      "execution_count": 38,
      "outputs": []
    },
    {
      "cell_type": "code",
      "metadata": {
        "id": "uLXttWC3Y4pA"
      },
      "source": [
        "def first_last(c):\n",
        "  # Put your code here.\n",
        "  return c[0], c[-1] # Put your return values here.  Remember a function can return two values (you will format your return statement as \"return value1, value2\")."
      ],
      "execution_count": 39,
      "outputs": []
    },
    {
      "cell_type": "code",
      "metadata": {
        "id": "dUT5PiYaY6hM"
      },
      "source": [
        "def middle(c):\n",
        "  # Put your code here.\n",
        "  return c[1:-1]# Put your return value here."
      ],
      "execution_count": 40,
      "outputs": []
    },
    {
      "cell_type": "code",
      "metadata": {
        "colab": {
          "base_uri": "https://localhost:8080/"
        },
        "id": "57EU80aAY8M9",
        "outputId": "638e574c-2bd8-4cf5-c615-835fd717d625"
      },
      "source": [
        "w=[1,2,3,4,5]\n",
        "first(w)"
      ],
      "execution_count": 41,
      "outputs": [
        {
          "output_type": "execute_result",
          "data": {
            "text/plain": [
              "1"
            ]
          },
          "metadata": {},
          "execution_count": 41
        }
      ]
    },
    {
      "cell_type": "code",
      "metadata": {
        "colab": {
          "base_uri": "https://localhost:8080/"
        },
        "id": "Tb8ENQhwZBU8",
        "outputId": "31ed7691-9c33-4b59-9220-3c9e19d644f6"
      },
      "source": [
        "first_last(w)"
      ],
      "execution_count": 42,
      "outputs": [
        {
          "output_type": "execute_result",
          "data": {
            "text/plain": [
              "(1, 5)"
            ]
          },
          "metadata": {},
          "execution_count": 42
        }
      ]
    },
    {
      "cell_type": "code",
      "metadata": {
        "colab": {
          "base_uri": "https://localhost:8080/"
        },
        "id": "N8d6qX1nZDKI",
        "outputId": "88997c09-9746-49fa-d1fa-cef2d3bdee08"
      },
      "source": [
        "middle(w)"
      ],
      "execution_count": 43,
      "outputs": [
        {
          "output_type": "execute_result",
          "data": {
            "text/plain": [
              "[2, 3, 4]"
            ]
          },
          "metadata": {},
          "execution_count": 43
        }
      ]
    },
    {
      "cell_type": "code",
      "metadata": {
        "id": "ZXD2QhttZJSP"
      },
      "source": [
        "def swap(c):\n",
        "  new_list=c.copy() # This creates a copy of the list c, which is called new_list.  Your function should work with this list instead of the list c which is passed to the function.\n",
        "  first_temp = new_list[0]\n",
        "  new_list[0] = new_list[-1] # change first to be last\n",
        "  new_list[-1] = first_temp # change last to be first\n",
        "  return new_list# Put your return value here."
      ],
      "execution_count": 52,
      "outputs": []
    },
    {
      "cell_type": "code",
      "metadata": {
        "id": "744LIv-iZtG7"
      },
      "source": [
        "test_list = [2,3,4,5,6,7]"
      ],
      "execution_count": 48,
      "outputs": []
    },
    {
      "cell_type": "code",
      "metadata": {
        "colab": {
          "base_uri": "https://localhost:8080/"
        },
        "id": "_lj9UD_kZxZi",
        "outputId": "6fbccf31-1607-4de2-cf0e-1615919906ec"
      },
      "source": [
        "swap(test_list)"
      ],
      "execution_count": 54,
      "outputs": [
        {
          "output_type": "execute_result",
          "data": {
            "text/plain": [
              "[7, 3, 4, 5, 6, 2]"
            ]
          },
          "metadata": {},
          "execution_count": 54
        }
      ]
    },
    {
      "cell_type": "code",
      "metadata": {
        "colab": {
          "base_uri": "https://localhost:8080/"
        },
        "id": "VMzs6inYaFRD",
        "outputId": "1b2e0572-17ea-4b6e-be07-015207285e7d"
      },
      "source": [
        "swap([0,1,2,3,4,5])"
      ],
      "execution_count": 55,
      "outputs": [
        {
          "output_type": "execute_result",
          "data": {
            "text/plain": [
              "[5, 1, 2, 3, 4, 0]"
            ]
          },
          "metadata": {},
          "execution_count": 55
        }
      ]
    },
    {
      "cell_type": "code",
      "metadata": {
        "id": "GaOaBCkTaezk"
      },
      "source": [
        "def absolute_value(x):\n",
        "  if x < 0:\n",
        "    return -x# Put your code here.\n",
        "  return x # Put your return value here."
      ],
      "execution_count": 57,
      "outputs": []
    },
    {
      "cell_type": "code",
      "metadata": {
        "colab": {
          "base_uri": "https://localhost:8080/"
        },
        "id": "LLLMmAPQagt9",
        "outputId": "d877b14f-97f9-416f-e416-10d02223d23a"
      },
      "source": [
        "absolute_value(-45)"
      ],
      "execution_count": 58,
      "outputs": [
        {
          "output_type": "execute_result",
          "data": {
            "text/plain": [
              "45"
            ]
          },
          "metadata": {},
          "execution_count": 58
        }
      ]
    },
    {
      "cell_type": "code",
      "metadata": {
        "colab": {
          "base_uri": "https://localhost:8080/"
        },
        "id": "aTzxrmVEaiWg",
        "outputId": "dfd7111b-87f7-4ead-93e8-7537d65b9c5e"
      },
      "source": [
        "absolute_value(56)"
      ],
      "execution_count": 59,
      "outputs": [
        {
          "output_type": "execute_result",
          "data": {
            "text/plain": [
              "56"
            ]
          },
          "metadata": {},
          "execution_count": 59
        }
      ]
    },
    {
      "cell_type": "code",
      "metadata": {
        "id": "lc4DPPkiajsF"
      },
      "source": [
        "def indicator(lower,upper,n):\n",
        "  if n >= lower and n <= upper:\n",
        "    return 1 # Put your code here.\n",
        "  return 0 # Put your return value here."
      ],
      "execution_count": 63,
      "outputs": []
    },
    {
      "cell_type": "code",
      "metadata": {
        "colab": {
          "base_uri": "https://localhost:8080/"
        },
        "id": "oFGBU7EXa9XT",
        "outputId": "191cb910-fc34-4d03-e91d-1174c2953af1"
      },
      "source": [
        "indicator(3,7,2)"
      ],
      "execution_count": 65,
      "outputs": [
        {
          "output_type": "execute_result",
          "data": {
            "text/plain": [
              "0"
            ]
          },
          "metadata": {},
          "execution_count": 65
        }
      ]
    },
    {
      "cell_type": "code",
      "metadata": {
        "colab": {
          "base_uri": "https://localhost:8080/"
        },
        "id": "45HPto6abAAq",
        "outputId": "b522d6ad-f0e0-4a2a-91da-78082fad5adf"
      },
      "source": [
        "indicator(-3,9,8)"
      ],
      "execution_count": 66,
      "outputs": [
        {
          "output_type": "execute_result",
          "data": {
            "text/plain": [
              "1"
            ]
          },
          "metadata": {},
          "execution_count": 66
        }
      ]
    },
    {
      "cell_type": "code",
      "metadata": {
        "id": "o8SQ6qqQbPnB"
      },
      "source": [
        "def trunc_max(x,y):\n",
        "  if x < 0 and y < 0:\n",
        "    return 0\n",
        "  if y > x:\n",
        "    return y# Put your code here.\n",
        "  return x# Put your return value here."
      ],
      "execution_count": 88,
      "outputs": []
    },
    {
      "cell_type": "code",
      "metadata": {
        "colab": {
          "base_uri": "https://localhost:8080/"
        },
        "id": "5Ate5BHpbira",
        "outputId": "1be80535-f233-4b4d-fc39-054958c0f1bd"
      },
      "source": [
        "trunc_max(0,7)"
      ],
      "execution_count": 75,
      "outputs": [
        {
          "output_type": "execute_result",
          "data": {
            "text/plain": [
              "7"
            ]
          },
          "metadata": {},
          "execution_count": 75
        }
      ]
    },
    {
      "cell_type": "code",
      "metadata": {
        "colab": {
          "base_uri": "https://localhost:8080/"
        },
        "id": "yHe6lSHfbk3g",
        "outputId": "45d40c05-49bf-4e7c-8de9-199b1688129f"
      },
      "source": [
        "trunc_max(-21, 84)"
      ],
      "execution_count": 76,
      "outputs": [
        {
          "output_type": "execute_result",
          "data": {
            "text/plain": [
              "0"
            ]
          },
          "metadata": {},
          "execution_count": 76
        }
      ]
    },
    {
      "cell_type": "code",
      "metadata": {
        "colab": {
          "base_uri": "https://localhost:8080/"
        },
        "id": "FRHlE1jDboGt",
        "outputId": "0bd31647-d502-47a4-9eaf-762e62213703"
      },
      "source": [
        "trunc_max(84,-21)"
      ],
      "execution_count": 77,
      "outputs": [
        {
          "output_type": "execute_result",
          "data": {
            "text/plain": [
              "0"
            ]
          },
          "metadata": {},
          "execution_count": 77
        }
      ]
    },
    {
      "cell_type": "code",
      "metadata": {
        "colab": {
          "base_uri": "https://localhost:8080/"
        },
        "id": "7I5PeYl7brrN",
        "outputId": "844793b2-bcdb-4ae9-b4b4-7281d1781e2f"
      },
      "source": [
        "trunc_max(21,84)"
      ],
      "execution_count": 78,
      "outputs": [
        {
          "output_type": "execute_result",
          "data": {
            "text/plain": [
              "84"
            ]
          },
          "metadata": {},
          "execution_count": 78
        }
      ]
    },
    {
      "cell_type": "code",
      "metadata": {
        "colab": {
          "base_uri": "https://localhost:8080/"
        },
        "id": "QvvCYk0DbtKR",
        "outputId": "4dcfd81e-e677-4bce-b0f0-1b6619ba1c28"
      },
      "source": [
        "trunc_max(84, 21)"
      ],
      "execution_count": 79,
      "outputs": [
        {
          "output_type": "execute_result",
          "data": {
            "text/plain": [
              "84"
            ]
          },
          "metadata": {},
          "execution_count": 79
        }
      ]
    },
    {
      "cell_type": "code",
      "metadata": {
        "colab": {
          "base_uri": "https://localhost:8080/"
        },
        "id": "XGj7IIQzbzed",
        "outputId": "604d5c63-79d0-4e68-f10f-a6461fae817c"
      },
      "source": [
        "trunc_max(3,-5)"
      ],
      "execution_count": 90,
      "outputs": [
        {
          "output_type": "execute_result",
          "data": {
            "text/plain": [
              "3"
            ]
          },
          "metadata": {},
          "execution_count": 90
        }
      ]
    },
    {
      "cell_type": "code",
      "metadata": {
        "colab": {
          "base_uri": "https://localhost:8080/"
        },
        "id": "dH-OpySheEau",
        "outputId": "86d368b2-f688-4c59-944c-3f6d4b3b41e4"
      },
      "source": [
        "trunc_max(2,7)"
      ],
      "execution_count": 91,
      "outputs": [
        {
          "output_type": "execute_result",
          "data": {
            "text/plain": [
              "7"
            ]
          },
          "metadata": {},
          "execution_count": 91
        }
      ]
    },
    {
      "cell_type": "code",
      "metadata": {
        "colab": {
          "base_uri": "https://localhost:8080/"
        },
        "id": "2J_PRW1YeFyM",
        "outputId": "f731df84-7269-49f2-811a-577903af9050"
      },
      "source": [
        "trunc_max(-173,-21)"
      ],
      "execution_count": 92,
      "outputs": [
        {
          "output_type": "execute_result",
          "data": {
            "text/plain": [
              "0"
            ]
          },
          "metadata": {},
          "execution_count": 92
        }
      ]
    },
    {
      "cell_type": "code",
      "metadata": {
        "id": "kS5ibekKeHhQ"
      },
      "source": [
        ""
      ],
      "execution_count": null,
      "outputs": []
    }
  ]
}