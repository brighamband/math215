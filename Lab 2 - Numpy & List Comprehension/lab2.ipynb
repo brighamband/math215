{
  "nbformat": 4,
  "nbformat_minor": 0,
  "metadata": {
    "colab": {
      "name": "lab2.ipynb",
      "provenance": [],
      "collapsed_sections": []
    },
    "kernelspec": {
      "name": "python3",
      "display_name": "Python 3"
    }
  },
  "cells": [
    {
      "cell_type": "markdown",
      "metadata": {
        "id": "685r5AWPa9Xe"
      },
      "source": [
        "# **Lab 2 - Introduction to Python programming II**"
      ]
    },
    {
      "cell_type": "markdown",
      "metadata": {
        "id": "V-qYB1txmmzK"
      },
      "source": [
        "Enter your code in the spaces provided. Do not change any of the variable names or function names that are already provided for you. In places where we specify the name of the return value, make sure that your code produces the a value with the correct name."
      ]
    },
    {
      "cell_type": "code",
      "metadata": {
        "id": "Gn91PfqIdio9"
      },
      "source": [
        "# Do not edit this cell.\n",
        "\n",
        "LabID=\"Lab2\"\n",
        "\n",
        "try:\n",
        "  from graderHelp import ISGRADEPLOT\n",
        "except ImportError:\n",
        "  ISGRADEPLOT = True"
      ],
      "execution_count": 1,
      "outputs": []
    },
    {
      "cell_type": "markdown",
      "metadata": {
        "id": "QxyApY1lbIyA"
      },
      "source": [
        "**Enter your name, section number, and BYU NetID**"
      ]
    },
    {
      "cell_type": "code",
      "metadata": {
        "id": "Y4Ga6wzLbG-K"
      },
      "source": [
        "# Enter your first and last names in between the quotation marks.\n",
        "\n",
        "first_name=\"Brigham\"\n",
        "\n",
        "last_name=\"Andersen\"\n",
        "\n",
        "# Enter your Math 215 section number in between the quotation marks. \n",
        "\n",
        "section_number=\"1\"  \n",
        "\n",
        "# Enter your BYU NetID in between the quotation marks.  NOT YOUR BYU ID NUMBER!\n",
        "\n",
        "BYUNetID=\"abrigham\""
      ],
      "execution_count": 2,
      "outputs": []
    },
    {
      "cell_type": "markdown",
      "metadata": {
        "id": "NCF4YDbeblKI"
      },
      "source": [
        "**Problem 1**"
      ]
    },
    {
      "cell_type": "code",
      "metadata": {
        "id": "ZJJu3xyWb2OG"
      },
      "source": [
        "my_list=[1,2,3,4]\n",
        "\n",
        "first_elem=1   # Replace the value of 0 with the number described in Problem 1."
      ],
      "execution_count": 3,
      "outputs": []
    },
    {
      "cell_type": "markdown",
      "metadata": {
        "id": "g3Hq1OYZfq5B"
      },
      "source": [
        "**Problem 2**"
      ]
    },
    {
      "cell_type": "code",
      "metadata": {
        "id": "mqfH8cBsfs1e"
      },
      "source": [
        "def sum_list(L):\n",
        "  sum = 0\n",
        "  for num in L:\n",
        "    sum += num # Put your code here. \n",
        "  return sum # Put your return value here."
      ],
      "execution_count": 4,
      "outputs": []
    },
    {
      "cell_type": "markdown",
      "metadata": {
        "id": "qrKdBbfFgpOU"
      },
      "source": [
        "**Problem 3**"
      ]
    },
    {
      "cell_type": "code",
      "metadata": {
        "id": "84RmxbZmgTX-"
      },
      "source": [
        "def list_relu(L):\n",
        "  new_list=L.copy()  # Remember to create a copy of your list.  After this lab you'll need to remember to do it on your own.\n",
        "  for i in range(len(new_list)):\n",
        "    if new_list[i] < 0:\n",
        "      new_list[i] = 0# Put your code here. \n",
        "  return new_list# Put your return value here."
      ],
      "execution_count": 5,
      "outputs": []
    },
    {
      "cell_type": "markdown",
      "metadata": {
        "id": "vAPEAMw_iGlF"
      },
      "source": [
        "**Problem 4**"
      ]
    },
    {
      "cell_type": "code",
      "metadata": {
        "id": "g7Tm-N35qY5O"
      },
      "source": [
        "import numpy as np  # Importing NumPy"
      ],
      "execution_count": 6,
      "outputs": []
    },
    {
      "cell_type": "code",
      "metadata": {
        "id": "GSJqyHzriHyM"
      },
      "source": [
        "my_var=(np.exp(5) - np.log(np.sqrt(5)))/(np.exp(np.cos(3)))   # Replace the value of 0 with the required value from Problem 4."
      ],
      "execution_count": 7,
      "outputs": []
    },
    {
      "cell_type": "markdown",
      "metadata": {
        "id": "H1pF-iahkVSF"
      },
      "source": [
        "**Problem 5**"
      ]
    },
    {
      "cell_type": "code",
      "metadata": {
        "id": "8nJnVRG5kTr8"
      },
      "source": [
        "v = np.array([1,3,-2,4,5])\n",
        "u = np.array([1,1,-2,1,1])\n",
        "w = np.array([1,0,1,0,1])\n",
        "\n",
        "my_vect_var=np.dot(v,u) / np.dot(u,u) * u + np.dot(v,w) / np.dot(w,w) * w   # Replace the value of 0 with the required value from Problem 5.\n",
        "\n",
        "# np.array([ 3.45833333,  2.125     , -2.91666667,  2.125     ,  3.45833333])"
      ],
      "execution_count": 8,
      "outputs": []
    },
    {
      "cell_type": "markdown",
      "metadata": {
        "id": "re7RuJoFlzOF"
      },
      "source": [
        "**Problem 6**"
      ]
    },
    {
      "cell_type": "code",
      "metadata": {
        "id": "yEVLhVbjkbDo",
        "colab": {
          "base_uri": "https://localhost:8080/"
        },
        "outputId": "6863d2f4-26c8-4b1f-d2d7-d3dfaea105df"
      },
      "source": [
        "def first_rpt(M):\n",
        "  new_matrix=M.copy()  # Remember to create a copy of your matrix.  After this lab you'll need to remember to do it on your own.\n",
        "\n",
        "  for i in range(len(new_matrix)):\n",
        "    new_matrix[i] = new_matrix[0]\n",
        "    \n",
        "  return new_matrix # Put your return value here.\n",
        "\n",
        "first_rpt(np.array([[1, 2, 3, 4],[-5, -6, -7, -8],[1, 5, 2, 3]]))"
      ],
      "execution_count": 9,
      "outputs": [
        {
          "output_type": "execute_result",
          "data": {
            "text/plain": [
              "array([[1, 2, 3, 4],\n",
              "       [1, 2, 3, 4],\n",
              "       [1, 2, 3, 4]])"
            ]
          },
          "metadata": {},
          "execution_count": 9
        }
      ]
    },
    {
      "cell_type": "markdown",
      "metadata": {
        "id": "EipWzzRll93V"
      },
      "source": [
        "**Problem 7**"
      ]
    },
    {
      "cell_type": "code",
      "metadata": {
        "id": "WkBLvjjCl80O",
        "colab": {
          "base_uri": "https://localhost:8080/"
        },
        "outputId": "ed2c974c-c475-4d40-f2f9-8381f2a3118b"
      },
      "source": [
        "def matrix_sum(M):\n",
        "  sum = 0\n",
        "  for row in M:\n",
        "    for num in row:\n",
        "      print('num', num)\n",
        "      sum += num\n",
        "  return sum # Put your return value here.\n",
        "\n",
        "mat=np.array([[1,-1,2,-3,1,1],[-2,-2,0,1,1,-5],[1,1,1,1,-2,-1]])\n",
        "matrix_sum(mat)"
      ],
      "execution_count": 10,
      "outputs": [
        {
          "output_type": "stream",
          "name": "stdout",
          "text": [
            "num 1\n",
            "num -1\n",
            "num 2\n",
            "num -3\n",
            "num 1\n",
            "num 1\n",
            "num -2\n",
            "num -2\n",
            "num 0\n",
            "num 1\n",
            "num 1\n",
            "num -5\n",
            "num 1\n",
            "num 1\n",
            "num 1\n",
            "num 1\n",
            "num -2\n",
            "num -1\n"
          ]
        },
        {
          "output_type": "execute_result",
          "data": {
            "text/plain": [
              "-5"
            ]
          },
          "metadata": {},
          "execution_count": 10
        }
      ]
    },
    {
      "cell_type": "markdown",
      "metadata": {
        "id": "RWju9gIhmQ5F"
      },
      "source": [
        "**Problem 8**"
      ]
    },
    {
      "cell_type": "code",
      "metadata": {
        "id": "SPpsjK27mQKJ",
        "colab": {
          "base_uri": "https://localhost:8080/"
        },
        "outputId": "efa83ad4-893b-425f-db42-914d25e3df1e"
      },
      "source": [
        "long_list=[0.5**(i+1) for i in range(100)]   # Replace the value of 0 with the required list from Problem 8.\n",
        "long_list"
      ],
      "execution_count": 11,
      "outputs": [
        {
          "output_type": "execute_result",
          "data": {
            "text/plain": [
              "[0.5,\n",
              " 0.25,\n",
              " 0.125,\n",
              " 0.0625,\n",
              " 0.03125,\n",
              " 0.015625,\n",
              " 0.0078125,\n",
              " 0.00390625,\n",
              " 0.001953125,\n",
              " 0.0009765625,\n",
              " 0.00048828125,\n",
              " 0.000244140625,\n",
              " 0.0001220703125,\n",
              " 6.103515625e-05,\n",
              " 3.0517578125e-05,\n",
              " 1.52587890625e-05,\n",
              " 7.62939453125e-06,\n",
              " 3.814697265625e-06,\n",
              " 1.9073486328125e-06,\n",
              " 9.5367431640625e-07,\n",
              " 4.76837158203125e-07,\n",
              " 2.384185791015625e-07,\n",
              " 1.1920928955078125e-07,\n",
              " 5.960464477539063e-08,\n",
              " 2.9802322387695312e-08,\n",
              " 1.4901161193847656e-08,\n",
              " 7.450580596923828e-09,\n",
              " 3.725290298461914e-09,\n",
              " 1.862645149230957e-09,\n",
              " 9.313225746154785e-10,\n",
              " 4.656612873077393e-10,\n",
              " 2.3283064365386963e-10,\n",
              " 1.1641532182693481e-10,\n",
              " 5.820766091346741e-11,\n",
              " 2.9103830456733704e-11,\n",
              " 1.4551915228366852e-11,\n",
              " 7.275957614183426e-12,\n",
              " 3.637978807091713e-12,\n",
              " 1.8189894035458565e-12,\n",
              " 9.094947017729282e-13,\n",
              " 4.547473508864641e-13,\n",
              " 2.2737367544323206e-13,\n",
              " 1.1368683772161603e-13,\n",
              " 5.684341886080802e-14,\n",
              " 2.842170943040401e-14,\n",
              " 1.4210854715202004e-14,\n",
              " 7.105427357601002e-15,\n",
              " 3.552713678800501e-15,\n",
              " 1.7763568394002505e-15,\n",
              " 8.881784197001252e-16,\n",
              " 4.440892098500626e-16,\n",
              " 2.220446049250313e-16,\n",
              " 1.1102230246251565e-16,\n",
              " 5.551115123125783e-17,\n",
              " 2.7755575615628914e-17,\n",
              " 1.3877787807814457e-17,\n",
              " 6.938893903907228e-18,\n",
              " 3.469446951953614e-18,\n",
              " 1.734723475976807e-18,\n",
              " 8.673617379884035e-19,\n",
              " 4.336808689942018e-19,\n",
              " 2.168404344971009e-19,\n",
              " 1.0842021724855044e-19,\n",
              " 5.421010862427522e-20,\n",
              " 2.710505431213761e-20,\n",
              " 1.3552527156068805e-20,\n",
              " 6.776263578034403e-21,\n",
              " 3.3881317890172014e-21,\n",
              " 1.6940658945086007e-21,\n",
              " 8.470329472543003e-22,\n",
              " 4.235164736271502e-22,\n",
              " 2.117582368135751e-22,\n",
              " 1.0587911840678754e-22,\n",
              " 5.293955920339377e-23,\n",
              " 2.6469779601696886e-23,\n",
              " 1.3234889800848443e-23,\n",
              " 6.617444900424222e-24,\n",
              " 3.308722450212111e-24,\n",
              " 1.6543612251060553e-24,\n",
              " 8.271806125530277e-25,\n",
              " 4.1359030627651384e-25,\n",
              " 2.0679515313825692e-25,\n",
              " 1.0339757656912846e-25,\n",
              " 5.169878828456423e-26,\n",
              " 2.5849394142282115e-26,\n",
              " 1.2924697071141057e-26,\n",
              " 6.462348535570529e-27,\n",
              " 3.2311742677852644e-27,\n",
              " 1.6155871338926322e-27,\n",
              " 8.077935669463161e-28,\n",
              " 4.0389678347315804e-28,\n",
              " 2.0194839173657902e-28,\n",
              " 1.0097419586828951e-28,\n",
              " 5.048709793414476e-29,\n",
              " 2.524354896707238e-29,\n",
              " 1.262177448353619e-29,\n",
              " 6.310887241768095e-30,\n",
              " 3.1554436208840472e-30,\n",
              " 1.5777218104420236e-30,\n",
              " 7.888609052210118e-31]"
            ]
          },
          "metadata": {},
          "execution_count": 11
        }
      ]
    },
    {
      "cell_type": "markdown",
      "metadata": {
        "id": "50kkHPD4o_ga"
      },
      "source": [
        "**Problem 9**"
      ]
    },
    {
      "cell_type": "code",
      "metadata": {
        "id": "lSrlFYZIo_DF",
        "colab": {
          "base_uri": "https://localhost:8080/"
        },
        "outputId": "f02f57a3-fd34-468e-bd98-fd021092ddc8"
      },
      "source": [
        "# Standard Way\n",
        "\n",
        "# for i in range(1,100):\n",
        "#   for j in range(1,4):\n",
        "#     print('j^i',j**i)\n",
        "\n",
        "# Left side outer loop, right side inner loop\n",
        "\n",
        "very_long_list=[j**i for i in range(1,100) for j in range(1,4)]   # Replace the value of 0 with the required list from Problem 9.\n",
        "very_long_list"
      ],
      "execution_count": 12,
      "outputs": [
        {
          "output_type": "execute_result",
          "data": {
            "text/plain": [
              "[1,\n",
              " 2,\n",
              " 3,\n",
              " 1,\n",
              " 4,\n",
              " 9,\n",
              " 1,\n",
              " 8,\n",
              " 27,\n",
              " 1,\n",
              " 16,\n",
              " 81,\n",
              " 1,\n",
              " 32,\n",
              " 243,\n",
              " 1,\n",
              " 64,\n",
              " 729,\n",
              " 1,\n",
              " 128,\n",
              " 2187,\n",
              " 1,\n",
              " 256,\n",
              " 6561,\n",
              " 1,\n",
              " 512,\n",
              " 19683,\n",
              " 1,\n",
              " 1024,\n",
              " 59049,\n",
              " 1,\n",
              " 2048,\n",
              " 177147,\n",
              " 1,\n",
              " 4096,\n",
              " 531441,\n",
              " 1,\n",
              " 8192,\n",
              " 1594323,\n",
              " 1,\n",
              " 16384,\n",
              " 4782969,\n",
              " 1,\n",
              " 32768,\n",
              " 14348907,\n",
              " 1,\n",
              " 65536,\n",
              " 43046721,\n",
              " 1,\n",
              " 131072,\n",
              " 129140163,\n",
              " 1,\n",
              " 262144,\n",
              " 387420489,\n",
              " 1,\n",
              " 524288,\n",
              " 1162261467,\n",
              " 1,\n",
              " 1048576,\n",
              " 3486784401,\n",
              " 1,\n",
              " 2097152,\n",
              " 10460353203,\n",
              " 1,\n",
              " 4194304,\n",
              " 31381059609,\n",
              " 1,\n",
              " 8388608,\n",
              " 94143178827,\n",
              " 1,\n",
              " 16777216,\n",
              " 282429536481,\n",
              " 1,\n",
              " 33554432,\n",
              " 847288609443,\n",
              " 1,\n",
              " 67108864,\n",
              " 2541865828329,\n",
              " 1,\n",
              " 134217728,\n",
              " 7625597484987,\n",
              " 1,\n",
              " 268435456,\n",
              " 22876792454961,\n",
              " 1,\n",
              " 536870912,\n",
              " 68630377364883,\n",
              " 1,\n",
              " 1073741824,\n",
              " 205891132094649,\n",
              " 1,\n",
              " 2147483648,\n",
              " 617673396283947,\n",
              " 1,\n",
              " 4294967296,\n",
              " 1853020188851841,\n",
              " 1,\n",
              " 8589934592,\n",
              " 5559060566555523,\n",
              " 1,\n",
              " 17179869184,\n",
              " 16677181699666569,\n",
              " 1,\n",
              " 34359738368,\n",
              " 50031545098999707,\n",
              " 1,\n",
              " 68719476736,\n",
              " 150094635296999121,\n",
              " 1,\n",
              " 137438953472,\n",
              " 450283905890997363,\n",
              " 1,\n",
              " 274877906944,\n",
              " 1350851717672992089,\n",
              " 1,\n",
              " 549755813888,\n",
              " 4052555153018976267,\n",
              " 1,\n",
              " 1099511627776,\n",
              " 12157665459056928801,\n",
              " 1,\n",
              " 2199023255552,\n",
              " 36472996377170786403,\n",
              " 1,\n",
              " 4398046511104,\n",
              " 109418989131512359209,\n",
              " 1,\n",
              " 8796093022208,\n",
              " 328256967394537077627,\n",
              " 1,\n",
              " 17592186044416,\n",
              " 984770902183611232881,\n",
              " 1,\n",
              " 35184372088832,\n",
              " 2954312706550833698643,\n",
              " 1,\n",
              " 70368744177664,\n",
              " 8862938119652501095929,\n",
              " 1,\n",
              " 140737488355328,\n",
              " 26588814358957503287787,\n",
              " 1,\n",
              " 281474976710656,\n",
              " 79766443076872509863361,\n",
              " 1,\n",
              " 562949953421312,\n",
              " 239299329230617529590083,\n",
              " 1,\n",
              " 1125899906842624,\n",
              " 717897987691852588770249,\n",
              " 1,\n",
              " 2251799813685248,\n",
              " 2153693963075557766310747,\n",
              " 1,\n",
              " 4503599627370496,\n",
              " 6461081889226673298932241,\n",
              " 1,\n",
              " 9007199254740992,\n",
              " 19383245667680019896796723,\n",
              " 1,\n",
              " 18014398509481984,\n",
              " 58149737003040059690390169,\n",
              " 1,\n",
              " 36028797018963968,\n",
              " 174449211009120179071170507,\n",
              " 1,\n",
              " 72057594037927936,\n",
              " 523347633027360537213511521,\n",
              " 1,\n",
              " 144115188075855872,\n",
              " 1570042899082081611640534563,\n",
              " 1,\n",
              " 288230376151711744,\n",
              " 4710128697246244834921603689,\n",
              " 1,\n",
              " 576460752303423488,\n",
              " 14130386091738734504764811067,\n",
              " 1,\n",
              " 1152921504606846976,\n",
              " 42391158275216203514294433201,\n",
              " 1,\n",
              " 2305843009213693952,\n",
              " 127173474825648610542883299603,\n",
              " 1,\n",
              " 4611686018427387904,\n",
              " 381520424476945831628649898809,\n",
              " 1,\n",
              " 9223372036854775808,\n",
              " 1144561273430837494885949696427,\n",
              " 1,\n",
              " 18446744073709551616,\n",
              " 3433683820292512484657849089281,\n",
              " 1,\n",
              " 36893488147419103232,\n",
              " 10301051460877537453973547267843,\n",
              " 1,\n",
              " 73786976294838206464,\n",
              " 30903154382632612361920641803529,\n",
              " 1,\n",
              " 147573952589676412928,\n",
              " 92709463147897837085761925410587,\n",
              " 1,\n",
              " 295147905179352825856,\n",
              " 278128389443693511257285776231761,\n",
              " 1,\n",
              " 590295810358705651712,\n",
              " 834385168331080533771857328695283,\n",
              " 1,\n",
              " 1180591620717411303424,\n",
              " 2503155504993241601315571986085849,\n",
              " 1,\n",
              " 2361183241434822606848,\n",
              " 7509466514979724803946715958257547,\n",
              " 1,\n",
              " 4722366482869645213696,\n",
              " 22528399544939174411840147874772641,\n",
              " 1,\n",
              " 9444732965739290427392,\n",
              " 67585198634817523235520443624317923,\n",
              " 1,\n",
              " 18889465931478580854784,\n",
              " 202755595904452569706561330872953769,\n",
              " 1,\n",
              " 37778931862957161709568,\n",
              " 608266787713357709119683992618861307,\n",
              " 1,\n",
              " 75557863725914323419136,\n",
              " 1824800363140073127359051977856583921,\n",
              " 1,\n",
              " 151115727451828646838272,\n",
              " 5474401089420219382077155933569751763,\n",
              " 1,\n",
              " 302231454903657293676544,\n",
              " 16423203268260658146231467800709255289,\n",
              " 1,\n",
              " 604462909807314587353088,\n",
              " 49269609804781974438694403402127765867,\n",
              " 1,\n",
              " 1208925819614629174706176,\n",
              " 147808829414345923316083210206383297601,\n",
              " 1,\n",
              " 2417851639229258349412352,\n",
              " 443426488243037769948249630619149892803,\n",
              " 1,\n",
              " 4835703278458516698824704,\n",
              " 1330279464729113309844748891857449678409,\n",
              " 1,\n",
              " 9671406556917033397649408,\n",
              " 3990838394187339929534246675572349035227,\n",
              " 1,\n",
              " 19342813113834066795298816,\n",
              " 11972515182562019788602740026717047105681,\n",
              " 1,\n",
              " 38685626227668133590597632,\n",
              " 35917545547686059365808220080151141317043,\n",
              " 1,\n",
              " 77371252455336267181195264,\n",
              " 107752636643058178097424660240453423951129,\n",
              " 1,\n",
              " 154742504910672534362390528,\n",
              " 323257909929174534292273980721360271853387,\n",
              " 1,\n",
              " 309485009821345068724781056,\n",
              " 969773729787523602876821942164080815560161,\n",
              " 1,\n",
              " 618970019642690137449562112,\n",
              " 2909321189362570808630465826492242446680483,\n",
              " 1,\n",
              " 1237940039285380274899124224,\n",
              " 8727963568087712425891397479476727340041449,\n",
              " 1,\n",
              " 2475880078570760549798248448,\n",
              " 26183890704263137277674192438430182020124347,\n",
              " 1,\n",
              " 4951760157141521099596496896,\n",
              " 78551672112789411833022577315290546060373041,\n",
              " 1,\n",
              " 9903520314283042199192993792,\n",
              " 235655016338368235499067731945871638181119123,\n",
              " 1,\n",
              " 19807040628566084398385987584,\n",
              " 706965049015104706497203195837614914543357369,\n",
              " 1,\n",
              " 39614081257132168796771975168,\n",
              " 2120895147045314119491609587512844743630072107,\n",
              " 1,\n",
              " 79228162514264337593543950336,\n",
              " 6362685441135942358474828762538534230890216321,\n",
              " 1,\n",
              " 158456325028528675187087900672,\n",
              " 19088056323407827075424486287615602692670648963,\n",
              " 1,\n",
              " 316912650057057350374175801344,\n",
              " 57264168970223481226273458862846808078011946889,\n",
              " 1,\n",
              " 633825300114114700748351602688,\n",
              " 171792506910670443678820376588540424234035840667]"
            ]
          },
          "metadata": {},
          "execution_count": 12
        }
      ]
    },
    {
      "cell_type": "markdown",
      "metadata": {
        "id": "zrBhGZMmVIcv"
      },
      "source": [
        "**STOP!  BEFORE YOU SUBMIT THIS LAB:**  Go to the \"Runtime\" menu at the top of this page, and select \"Restart and run all\".  If any of the cells produce error messages, you will either need to fix the error(s) or delete the code that is causing the error(s).  Then use \"Restart and run all\" again to see if there are any new errors.  Repeat this until no new error messages show up.  "
      ]
    },
    {
      "cell_type": "markdown",
      "metadata": {
        "id": "wI-gv66GVJ3X"
      },
      "source": [
        "**You are not ready to submit until you are able to select \"Restart and run all\" without any new error messages showing up.  Your code will not be able to be graded if there are any error messages.**"
      ]
    },
    {
      "cell_type": "markdown",
      "metadata": {
        "id": "nM-hGrpATAv4"
      },
      "source": [
        "To submit your lab for grading you must first download it to your compute as .py file. In the \"File\" menu select \"Download .py\". The resulting file can then be uploaded to http://www.math.byu.edu:30000 for grading."
      ]
    }
  ]
}