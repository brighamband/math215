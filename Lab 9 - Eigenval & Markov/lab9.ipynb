{
  "nbformat": 4,
  "nbformat_minor": 0,
  "metadata": {
    "colab": {
      "name": "lab9.ipynb",
      "provenance": [],
      "collapsed_sections": []
    },
    "kernelspec": {
      "name": "python3",
      "display_name": "Python 3"
    }
  },
  "cells": [
    {
      "cell_type": "markdown",
      "metadata": {
        "id": "qEJhOZ51lG2W"
      },
      "source": [
        "#**Lab 9 - Iterative eigenvalues and Markov chains**"
      ]
    },
    {
      "cell_type": "markdown",
      "metadata": {
        "id": "y0oQ0MWSlwfG"
      },
      "source": [
        "Enter your code in the spaces provided. Do not change any of the variable names or function names that are already provided for you. In places where we specify the name of the return value, make sure that your code produces the a value with the correct name."
      ]
    },
    {
      "cell_type": "code",
      "metadata": {
        "id": "-rYZn3kyGXYe"
      },
      "source": [
        "# Do not edit this cell.\n",
        "\n",
        "LabID=\"Lab9\"\n",
        "\n",
        "try:\n",
        "  from graderHelp import ISGRADEPLOT\n",
        "except ImportError:\n",
        "  ISGRADEPLOT = True"
      ],
      "execution_count": 1,
      "outputs": []
    },
    {
      "cell_type": "markdown",
      "metadata": {
        "id": "duxZxqozGc15"
      },
      "source": [
        "**Enter your name, section number, and BYU NetID**"
      ]
    },
    {
      "cell_type": "code",
      "metadata": {
        "id": "BuU-yivAGhCc"
      },
      "source": [
        "# Enter your first and last names in between the quotation marks.\n",
        "\n",
        "first_name=\"Brigham\"\n",
        "\n",
        "last_name=\"Andersen\"\n",
        "\n",
        "# Enter your Math 215 section number in between the quotation marks. \n",
        "\n",
        "section_number=\"001\"  \n",
        "\n",
        "# Enter your BYU NetID in between the quotation marks.  NOT YOUR BYU ID NUMBER! \n",
        "\n",
        "BYUNetID=\"abrigham\"  "
      ],
      "execution_count": 2,
      "outputs": []
    },
    {
      "cell_type": "markdown",
      "metadata": {
        "id": "6O8kWEYHoO6U"
      },
      "source": [
        "**Import NumPy**"
      ]
    },
    {
      "cell_type": "code",
      "metadata": {
        "id": "qCiA9VT9oQ9T"
      },
      "source": [
        "import numpy as np"
      ],
      "execution_count": 3,
      "outputs": []
    },
    {
      "cell_type": "markdown",
      "metadata": {
        "id": "O_rLaE7jKxoH"
      },
      "source": [
        "**Problem 1**"
      ]
    },
    {
      "cell_type": "code",
      "metadata": {
        "id": "dzudpi4_l8-8",
        "colab": {
          "base_uri": "https://localhost:8080/"
        },
        "outputId": "b539846a-3bed-40a7-d678-c9fafd2f7284"
      },
      "source": [
        "# This function approximates the dominant eigenvector of our matrix A.\n",
        "A = np.array([[1,1],[2,0]])\n",
        "\n",
        "def evect_approx1(x_0,k):\n",
        "  x = x_0\n",
        "  for i in range(k):\n",
        "    x = np.matmul(A,x)\n",
        "  \n",
        "  return x\n",
        "\n",
        "evect_approx1(np.array([1,9]),10)"
      ],
      "execution_count": 4,
      "outputs": [
        {
          "output_type": "execute_result",
          "data": {
            "text/plain": [
              "array([3752, 3760])"
            ]
          },
          "metadata": {},
          "execution_count": 4
        }
      ]
    },
    {
      "cell_type": "markdown",
      "metadata": {
        "id": "_jL7OuIYLa4Y"
      },
      "source": [
        "**Problem 2**"
      ]
    },
    {
      "cell_type": "code",
      "metadata": {
        "id": "iKwv9UTP2wVY",
        "colab": {
          "base_uri": "https://localhost:8080/"
        },
        "outputId": "c7260c53-b83d-4857-c5b7-7c55155f0740"
      },
      "source": [
        "# This function approximates the dominant eigenvalue of our matrix A.\n",
        "\n",
        "def eval_approx1(x_0,k):\n",
        "  x_k = evect_approx1(x_0,k)\n",
        "  x_k1 = evect_approx1(x_0,k+1)\n",
        "  return x_k1[0] / x_k[0]\n",
        "\n",
        "eval_approx1(np.array([1,9]),10)"
      ],
      "execution_count": 5,
      "outputs": [
        {
          "output_type": "execute_result",
          "data": {
            "text/plain": [
              "2.002132196162047"
            ]
          },
          "metadata": {},
          "execution_count": 5
        }
      ]
    },
    {
      "cell_type": "markdown",
      "metadata": {
        "id": "d5ifaZmSMHDw"
      },
      "source": [
        "**Problem 3**"
      ]
    },
    {
      "cell_type": "code",
      "metadata": {
        "id": "s0DwJTH32wZD",
        "colab": {
          "base_uri": "https://localhost:8080/"
        },
        "outputId": "47eb948d-4a5b-41a5-8622-5819b5750fb7"
      },
      "source": [
        "# This function approximates the dominant eigenvalue and eigenvector of our matrix A using the normalized iterative process.\n",
        "\n",
        "def norm_evect_approx1(x_0,k):\n",
        "  x = x_0\n",
        "  for i in range(k):\n",
        "    w = np.matmul(A,x)\n",
        "    v = w[0] / x[0]\n",
        "    x = w / np.linalg.norm(w)\n",
        "  return x, v\n",
        "\n",
        "norm_evect_approx1(np.array([1,9]),10)"
      ],
      "execution_count": 6,
      "outputs": [
        {
          "output_type": "execute_result",
          "data": {
            "text/plain": [
              "(array([0.70635334, 0.70785942]), 1.995744680851064)"
            ]
          },
          "metadata": {},
          "execution_count": 6
        }
      ]
    },
    {
      "cell_type": "markdown",
      "metadata": {
        "id": "6jMH7PXwMcuy"
      },
      "source": [
        "**Problem 4**"
      ]
    },
    {
      "cell_type": "code",
      "metadata": {
        "id": "IEx679YY2wb6",
        "colab": {
          "base_uri": "https://localhost:8080/"
        },
        "outputId": "c17c8c86-591c-4383-8b0c-9cf86a2d132c"
      },
      "source": [
        "# This function approximates the dominant eigenvalue and eigenvector of an arbitrary matrix using the process described in Problem 4.\n",
        "\n",
        "def norm_approx_gen(M,x_0,k):\n",
        "  x = x_0\n",
        "  for i in range(k):\n",
        "    w = np.matmul(M,x)\n",
        "    v = w[0] / x[0]\n",
        "    x = w / np.max(np.abs(w))\n",
        "  return x, v\n",
        "\n",
        "norm_approx_gen(np.array([[2,4,6],[4,8,0],[1,2,9]]),np.array([1,5,-1]),10)"
      ],
      "execution_count": 7,
      "outputs": [
        {
          "output_type": "execute_result",
          "data": {
            "text/plain": [
              "(array([0.98994349, 1.        , 0.98491523]), 12.01744017467949)"
            ]
          },
          "metadata": {},
          "execution_count": 7
        }
      ]
    },
    {
      "cell_type": "markdown",
      "metadata": {
        "id": "kb9FLrTTM0sj"
      },
      "source": [
        "**Problem 5**"
      ]
    },
    {
      "cell_type": "code",
      "metadata": {
        "id": "szmSRQQi2wes",
        "colab": {
          "base_uri": "https://localhost:8080/"
        },
        "outputId": "024438a7-7ff3-4f50-ef94-1340ab177f96"
      },
      "source": [
        "# This function approximates the dominant eigenvalue and eigenvector of an arbitrary matrix using the Rayleigh quotiend as described in Problem 5.\n",
        "\n",
        "def ray_quotient(M,x_0,k):\n",
        "  x_k = norm_approx_gen(M, x_0, k)[0]\n",
        "  numerator = np.dot(np.matmul(M,x_k),x_k)\n",
        "  denominator = np.dot(x_k,x_k)\n",
        "  return numerator / denominator\n",
        "\n",
        "ray_quotient(np.array([[2,4,6],[4,8,0],[1,2,9]]),np.array([1,5,-1]),10)"
      ],
      "execution_count": 8,
      "outputs": [
        {
          "output_type": "execute_result",
          "data": {
            "text/plain": [
              "12.00149020429905"
            ]
          },
          "metadata": {},
          "execution_count": 8
        }
      ]
    },
    {
      "cell_type": "markdown",
      "metadata": {
        "id": "5WB-yTRsNKib"
      },
      "source": [
        "**Problem 6**"
      ]
    },
    {
      "cell_type": "code",
      "metadata": {
        "id": "MmdpSsYQ2whe",
        "colab": {
          "base_uri": "https://localhost:8080/"
        },
        "outputId": "56bf8716-8c96-4bb9-b545-81613fd57b44"
      },
      "source": [
        "# Replace all of the 0 values with the vectors requested in Problem 6.\n",
        "y = np.array([[3, 2, -2], [-1, 1, 4], [3, 2, -5]])\n",
        "y_0 = np.array([1, 1, 1])\n",
        "\n",
        "x_vect_3=norm_approx_gen(y, y_0, 3)[0]\n",
        "print(x_vect_3)\n",
        "\n",
        "x_vect_4=norm_approx_gen(y, y_0, 4)[0]\n",
        "print(x_vect_4)"
      ],
      "execution_count": 9,
      "outputs": [
        {
          "output_type": "stream",
          "name": "stdout",
          "text": [
            "[ 0.36538462  1.         -0.61538462]\n",
            "[ 0.70093458 -0.29595016  1.        ]\n"
          ]
        }
      ]
    },
    {
      "cell_type": "markdown",
      "metadata": {
        "id": "1AoEo5z6Ne0z"
      },
      "source": [
        "**Problem 7**"
      ]
    },
    {
      "cell_type": "code",
      "metadata": {
        "id": "d58LBX-n2wkf",
        "colab": {
          "base_uri": "https://localhost:8080/"
        },
        "outputId": "1d4ee61f-1dac-4f41-b241-d0ea1ee96016"
      },
      "source": [
        "# This function returns the number of subscribers to the different streaming services after month k.\n",
        "\n",
        "def subscriber_vals(x_0,k):\n",
        "  x = x_0\n",
        "  P = np.array([[0.7,0.2],[0.3, 0.8]])\n",
        "  for i in range(k):\n",
        "    x = np.matmul(P,x)\n",
        "\n",
        "  return x\n",
        "\n",
        "subscriber_vals(np.array([95,102]),10)"
      ],
      "execution_count": 10,
      "outputs": [
        {
          "output_type": "execute_result",
          "data": {
            "text/plain": [
              "array([ 78.81582031, 118.18417969])"
            ]
          },
          "metadata": {},
          "execution_count": 10
        }
      ]
    },
    {
      "cell_type": "markdown",
      "metadata": {
        "id": "5-V1WD9UNmZl"
      },
      "source": [
        "**Problem 8**"
      ]
    },
    {
      "cell_type": "code",
      "metadata": {
        "id": "6GA_8AAF2wnY",
        "colab": {
          "base_uri": "https://localhost:8080/"
        },
        "outputId": "8cc1e496-cbea-435f-aabe-228ba5258666"
      },
      "source": [
        "# Replace all of the 0 values with the value requested in Problem 8.\n",
        "arr=np.array([0.6, 0.4])\n",
        "\n",
        "netflix_subs6=subscriber_vals(arr, 6)[1]\n",
        "netflix_subs6"
      ],
      "execution_count": 11,
      "outputs": [
        {
          "output_type": "execute_result",
          "data": {
            "text/plain": [
              "0.596875"
            ]
          },
          "metadata": {},
          "execution_count": 11
        }
      ]
    },
    {
      "cell_type": "markdown",
      "metadata": {
        "id": "8LFlkszMN4nq"
      },
      "source": [
        "**Problem 9**"
      ]
    },
    {
      "cell_type": "code",
      "metadata": {
        "id": "Zy6SewX02wqp",
        "colab": {
          "base_uri": "https://localhost:8080/"
        },
        "outputId": "05c5ad9e-d9f7-4c3b-b4e2-b0be8e165533"
      },
      "source": [
        "# Replace all of the 0 values with the matrix/vector/value requested in Problem 9.\n",
        "to_a = np.array([0.8,0.5,0.3,0.2])\n",
        "to_b = np.array([0.05,0.2,0.1,0.1])\n",
        "to_c = np.array([0.1,0.1,0.3,0.1])\n",
        "to_d = np.array([0.05,0.2,0.3,0.6])\n",
        "\n",
        "trans_matrix=np.array([to_a,to_b,to_c,to_d])\n",
        "trans_matrix"
      ],
      "execution_count": 12,
      "outputs": [
        {
          "output_type": "execute_result",
          "data": {
            "text/plain": [
              "array([[0.8 , 0.5 , 0.3 , 0.2 ],\n",
              "       [0.05, 0.2 , 0.1 , 0.1 ],\n",
              "       [0.1 , 0.1 , 0.3 , 0.1 ],\n",
              "       [0.05, 0.2 , 0.3 , 0.6 ]])"
            ]
          },
          "metadata": {},
          "execution_count": 12
        }
      ]
    },
    {
      "cell_type": "markdown",
      "metadata": {
        "id": "bAO57Q_PGt-R"
      },
      "source": [
        "**STOP!  BEFORE YOU SUBMIT THIS LAB:**  Go to the \"Runtime\" menu at the top of this page, and select \"Restart and run all\".  If any of the cells produce error messages, you will either need to fix the error(s) or delete the code that is causing the error(s).  Then use \"Restart and run all\" again to see if there are any new errors.  Repeat this until no new error messages show up.   "
      ]
    },
    {
      "cell_type": "markdown",
      "metadata": {
        "id": "CG2Gju8CGxZU"
      },
      "source": [
        "**You are not ready to submit until you are able to select \"Restart and run all\" without any new error messages showing up.  Your code will not be able to be graded if there are any error messages.**"
      ]
    },
    {
      "cell_type": "markdown",
      "metadata": {
        "id": "i7JEWV-dm6QR"
      },
      "source": [
        "To submit your lab for grading you must first download it to your compute as .py file. In the \"File\" menu select \"Download .py\". The resulting file can then be uploaded to http://www.math.byu.edu:30000 for grading."
      ]
    }
  ]
}